{
 "cells": [
  {
   "cell_type": "code",
   "execution_count": 1,
   "id": "3e117810-0c5e-4b9e-8d36-0d794e30d6ef",
   "metadata": {},
   "outputs": [],
   "source": [
    "from sklearn.datasets import make_classification\n",
    "from sklearn.utils import resample\n",
    "import numpy as np\n",
    "import pandas as pd\n",
    "import matplotlib.pyplot as plt"
   ]
  },
  {
   "cell_type": "code",
   "execution_count": 2,
   "id": "1e67fce1-d503-4d99-85b7-99949453c239",
   "metadata": {},
   "outputs": [],
   "source": [
    "data = make_classification(n_samples=1000, n_classes=2, random_state=23)"
   ]
  },
  {
   "cell_type": "code",
   "execution_count": 3,
   "id": "9da25950-c0e3-4b03-849b-553ca94f95c4",
   "metadata": {},
   "outputs": [],
   "source": [
    "df = pd.DataFrame(data[0], columns=[f\"feature_{i}\"for i in range(len(data[0][0]))])"
   ]
  },
  {
   "cell_type": "code",
   "execution_count": 4,
   "id": "b8099956-44a4-43a5-9a7a-64f4523b8594",
   "metadata": {},
   "outputs": [],
   "source": [
    "df[\"target\"] = data[1]"
   ]
  },
  {
   "cell_type": "code",
   "execution_count": 6,
   "id": "2d5d5fd8-9b09-4c96-814f-fe1c5da7eac1",
   "metadata": {},
   "outputs": [
    {
     "data": {
      "text/plain": [
       "(1000, 21)"
      ]
     },
     "execution_count": 6,
     "metadata": {},
     "output_type": "execute_result"
    }
   ],
   "source": [
    "df.shape"
   ]
  },
  {
   "cell_type": "code",
   "execution_count": 7,
   "id": "b13a83e0-0be1-4b90-ae1a-70bd29c2b6f6",
   "metadata": {},
   "outputs": [],
   "source": [
    "from sklearn.decomposition import PCA"
   ]
  },
  {
   "cell_type": "code",
   "execution_count": 8,
   "id": "51c0fc00-6b18-4fe0-b40f-5fec97b92e86",
   "metadata": {},
   "outputs": [],
   "source": [
    "pca = PCA(n_components=5)"
   ]
  },
  {
   "cell_type": "code",
   "execution_count": 12,
   "id": "d48a7535-4522-4329-87e5-71d2d35af4d6",
   "metadata": {},
   "outputs": [],
   "source": [
    "new_df = pca.fit_transform(df.drop(\"target\", axis=1))"
   ]
  },
  {
   "cell_type": "code",
   "execution_count": 15,
   "id": "a2abfd0a-3fdb-46f0-bbcb-3fe11515c463",
   "metadata": {},
   "outputs": [
    {
     "data": {
      "text/plain": [
       "array([[-0.78714066,  1.28963632, -1.22500216,  1.16723728, -2.57882254],\n",
       "       [-0.89012413, -0.15275873,  1.00915323, -0.56190352,  0.69775701],\n",
       "       [ 1.83609228, -1.60921692,  1.14152728,  0.82817206, -1.69832722],\n",
       "       ...,\n",
       "       [ 1.85476549,  0.23389007,  0.77388376, -0.63175539, -1.21999221],\n",
       "       [ 2.18002221,  0.20251416, -0.99363344, -0.11948608,  1.46609668],\n",
       "       [-1.3252153 , -0.36722113,  0.27565043,  1.08996839, -0.55769495]])"
      ]
     },
     "execution_count": 15,
     "metadata": {},
     "output_type": "execute_result"
    }
   ],
   "source": [
    "new_df"
   ]
  },
  {
   "cell_type": "code",
   "execution_count": 16,
   "id": "a9266671-2678-42c2-b97e-805ee0da03c8",
   "metadata": {},
   "outputs": [],
   "source": [
    "X = new_df\n",
    "y = df[\"target\"]"
   ]
  },
  {
   "cell_type": "code",
   "execution_count": 17,
   "id": "8f1d9e34-72b6-4b73-892d-41289cee4b6a",
   "metadata": {},
   "outputs": [],
   "source": [
    "new = np.random.rand(20)"
   ]
  },
  {
   "cell_type": "code",
   "execution_count": 18,
   "id": "cd25f0cc-406b-47b8-b6dd-53e7934c733d",
   "metadata": {},
   "outputs": [
    {
     "data": {
      "text/plain": [
       "array([0.08660006, 0.63998945, 0.95325084, 0.33698759, 0.93702138,\n",
       "       0.34417017, 0.37598781, 0.47830394, 0.76967284, 0.04493339,\n",
       "       0.62594277, 0.77329949, 0.35627729, 0.13387193, 0.26458888,\n",
       "       0.68251111, 0.86599784, 0.62492817, 0.29984461, 0.37203942])"
      ]
     },
     "execution_count": 18,
     "metadata": {},
     "output_type": "execute_result"
    }
   ],
   "source": [
    "new"
   ]
  },
  {
   "cell_type": "code",
   "execution_count": 20,
   "id": "6678f48f-0911-42b4-9709-d51001f258bf",
   "metadata": {},
   "outputs": [
    {
     "name": "stderr",
     "output_type": "stream",
     "text": [
      "C:\\Users\\Admin\\AppData\\Local\\Programs\\Python\\Python312\\Lib\\site-packages\\sklearn\\base.py:465: UserWarning: X does not have valid feature names, but PCA was fitted with feature names\n",
      "  warnings.warn(\n"
     ]
    },
    {
     "data": {
      "text/plain": [
       "array([[ 0.06119645,  0.51289151,  0.2460839 , -0.55984146, -0.44494352]])"
      ]
     },
     "execution_count": 20,
     "metadata": {},
     "output_type": "execute_result"
    }
   ],
   "source": [
    "pca.transform([new])"
   ]
  },
  {
   "cell_type": "code",
   "execution_count": null,
   "id": "ae0e8c4e-f700-48ef-a0ee-fb180ca9dcea",
   "metadata": {},
   "outputs": [],
   "source": []
  }
 ],
 "metadata": {
  "kernelspec": {
   "display_name": "Python 3 (ipykernel)",
   "language": "python",
   "name": "python3"
  },
  "language_info": {
   "codemirror_mode": {
    "name": "ipython",
    "version": 3
   },
   "file_extension": ".py",
   "mimetype": "text/x-python",
   "name": "python",
   "nbconvert_exporter": "python",
   "pygments_lexer": "ipython3",
   "version": "3.12.0"
  }
 },
 "nbformat": 4,
 "nbformat_minor": 5
}
