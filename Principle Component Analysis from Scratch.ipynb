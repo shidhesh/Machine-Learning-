{
 "cells": [
  {
   "cell_type": "code",
   "execution_count": 1,
   "id": "b6101b20-274c-4d2d-b635-a02c27a16815",
   "metadata": {},
   "outputs": [],
   "source": [
    "import numpy as np"
   ]
  },
  {
   "cell_type": "code",
   "execution_count": 2,
   "id": "7e6bb96a-2598-43ad-9585-0b4a797e7225",
   "metadata": {},
   "outputs": [
    {
     "data": {
      "text/plain": [
       "array([0.02103009, 0.67707453, 0.91934084, 0.33192806, 0.2247224 ,\n",
       "       0.73727141, 0.81402111, 0.36034621, 0.90333746, 0.39510994])"
      ]
     },
     "execution_count": 2,
     "metadata": {},
     "output_type": "execute_result"
    }
   ],
   "source": [
    "x = np.random.rand(10)\n",
    "x"
   ]
  },
  {
   "cell_type": "code",
   "execution_count": 3,
   "id": "578145ea-589e-4ccd-a87e-842a5211115e",
   "metadata": {},
   "outputs": [
    {
     "data": {
      "text/plain": [
       "array([0.73882347, 0.69090952, 0.48469585, 0.46882876, 0.94522147,\n",
       "       0.40692575, 0.59447698, 0.44058049, 0.30697593, 0.28899757])"
      ]
     },
     "execution_count": 3,
     "metadata": {},
     "output_type": "execute_result"
    }
   ],
   "source": [
    "y = np.random.rand(10)\n",
    "y"
   ]
  },
  {
   "cell_type": "code",
   "execution_count": 4,
   "id": "4a01311a-ef54-4e36-bff2-9448465bedbb",
   "metadata": {},
   "outputs": [],
   "source": [
    "import matplotlib.pyplot as plt"
   ]
  },
  {
   "cell_type": "code",
   "execution_count": 5,
   "id": "39565f20-14b0-45ed-849b-d82f1c2db9c3",
   "metadata": {
    "scrolled": true
   },
   "outputs": [
    {
     "data": {
      "image/png": "[encoded data removed]",
      "text/plain": [
       "<Figure size 640x480 with 1 Axes>"
      ]
     },
     "metadata": {},
     "output_type": "display_data"
    }
   ],
   "source": [
    "plt.scatter(x, y)\n",
    "plt.show()"
   ]
  },
  {
   "cell_type": "code",
   "execution_count": 6,
   "id": "b7d86a72-df67-4978-86b5-58d706fbda9a",
   "metadata": {
    "scrolled": true
   },
   "outputs": [
    {
     "data": {
      "text/plain": [
       "array([[ 0.0971082 , -0.0286933 ],\n",
       "       [-0.0286933 ,  0.04248703]])"
      ]
     },
     "execution_count": 6,
     "metadata": {},
     "output_type": "execute_result"
    }
   ],
   "source": [
    "cov_xy = np.cov(x, y)\n",
    "cov_xy"
   ]
  },
  {
   "cell_type": "code",
   "execution_count": 7,
   "id": "72ed7fa4-c4ef-4487-883f-f71e49ca26ee",
   "metadata": {},
   "outputs": [],
   "source": [
    "eig_value, eig_vector = np.linalg.eig(cov_xy)"
   ]
  },
  {
   "cell_type": "code",
   "execution_count": 8,
   "id": "1f06e5a7-9ded-4ac1-bacb-a82ca304a315",
   "metadata": {
    "scrolled": true
   },
   "outputs": [
    {
     "data": {
      "text/plain": [
       "array([[ 0.91908609,  0.3940568 ],\n",
       "       [-0.3940568 ,  0.91908609]])"
      ]
     },
     "execution_count": 8,
     "metadata": {},
     "output_type": "execute_result"
    }
   ],
   "source": [
    "eig_vector"
   ]
  },
  {
   "cell_type": "code",
   "execution_count": 9,
   "id": "c45a0a74-9c80-4591-bff3-b73907825d51",
   "metadata": {
    "scrolled": true
   },
   "outputs": [
    {
     "data": {
      "text/plain": [
       "array([0.10941041, 0.03018482])"
      ]
     },
     "execution_count": 9,
     "metadata": {},
     "output_type": "execute_result"
    }
   ],
   "source": [
    "eig_value"
   ]
  },
  {
   "cell_type": "code",
   "execution_count": 10,
   "id": "715d5eeb-5ad0-488b-b1a8-6178af6569f3",
   "metadata": {},
   "outputs": [
    {
     "data": {
      "text/plain": [
       "array([[0.02103009, 0.73882347],\n",
       "       [0.67707453, 0.69090952],\n",
       "       [0.91934084, 0.48469585],\n",
       "       [0.33192806, 0.46882876],\n",
       "       [0.2247224 , 0.94522147],\n",
       "       [0.73727141, 0.40692575],\n",
       "       [0.81402111, 0.59447698],\n",
       "       [0.36034621, 0.44058049],\n",
       "       [0.90333746, 0.30697593],\n",
       "       [0.39510994, 0.28899757]])"
      ]
     },
     "execution_count": 10,
     "metadata": {},
     "output_type": "execute_result"
    }
   ],
   "source": [
    "data = np.append(x.reshape(-1,1), y.reshape(-1,1), axis=1)\n",
    "data"
   ]
  },
  {
   "cell_type": "code",
   "execution_count": 11,
   "id": "981f8234-ec07-48a8-aef5-1a258c1455f6",
   "metadata": {},
   "outputs": [
    {
     "data": {
      "text/plain": [
       "array([0.31046688, 0.89454737, 1.03595107, 0.48981562, 0.57901017,\n",
       "       0.83796776, 0.98241317, 0.50480293, 0.95121084, 0.4770215 ])"
      ]
     },
     "execution_count": 11,
     "metadata": {},
     "output_type": "execute_result"
    }
   ],
   "source": [
    "pc = np.dot(data, eig_vector[0].T)\n",
    "pc"
   ]
  },
  {
   "cell_type": "code",
   "execution_count": null,
   "id": "9288cbf9-326d-4afd-9fec-b11b862baf92",
   "metadata": {},
   "outputs": [],
   "source": []
  }
 ],
 "metadata": {
  "kernelspec": {
   "display_name": "Python 3 (ipykernel)",
   "language": "python",
   "name": "python3"
  },
  "language_info": {
   "codemirror_mode": {
    "name": "ipython",
    "version": 3
   },
   "file_extension": ".py",
   "mimetype": "text/x-python",
   "name": "python",
   "nbconvert_exporter": "python",
   "pygments_lexer": "ipython3",
   "version": "3.12.0"
  }
 },
 "nbformat": 4,
 "nbformat_minor": 5
}
