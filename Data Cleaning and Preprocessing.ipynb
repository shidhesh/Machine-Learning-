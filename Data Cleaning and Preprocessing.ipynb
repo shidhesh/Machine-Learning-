{
 "cells": [
  {
   "cell_type": "code",
   "execution_count": 1,
   "id": "8a16f827-a6ec-45c5-ba66-869cc62f7fce",
   "metadata": {},
   "outputs": [],
   "source": [
    "import pandas as pd\n",
    "import numpy as np\n",
    "import matplotlib.pyplot as plt\n",
    "\n",
    "import warnings \n",
    "warnings.filterwarnings(\"ignore\")"
   ]
  },
  {
   "cell_type": "code",
   "execution_count": 2,
   "id": "a5b0c5fd-f113-4a1e-8cb4-503fa0136659",
   "metadata": {},
   "outputs": [],
   "source": [
    "data = pd.read_csv(\"laptops.csv\")"
   ]
  },
  {
   "cell_type": "code",
   "execution_count": 3,
   "id": "5cfffcfc-6853-4b13-b87d-d0942fed2a46",
   "metadata": {},
   "outputs": [],
   "source": [
    "df = data.copy()"
   ]
  },
  {
   "cell_type": "code",
   "execution_count": 4,
   "id": "f85d5f3e-e393-4a3e-bd2a-f613cddb3eb0",
   "metadata": {},
   "outputs": [
    {
     "data": {
      "text/html": [
       "<div>\n",
       "<style scoped>\n",
       "    .dataframe tbody tr th:only-of-type {\n",
       "        vertical-align: middle;\n",
       "    }\n",
       "\n",
       "    .dataframe tbody tr th {\n",
       "        vertical-align: top;\n",
       "    }\n",
       "\n",
       "    .dataframe thead th {\n",
       "        text-align: right;\n",
       "    }\n",
       "</style>\n",
       "<table border=\"1\" class=\"dataframe\">\n",
       "  <thead>\n",
       "    <tr style=\"text-align: right;\">\n",
       "      <th></th>\n",
       "      <th>CompanyName</th>\n",
       "      <th>TypeOfLaptop</th>\n",
       "      <th>Inches</th>\n",
       "      <th>ScreenResolution</th>\n",
       "      <th>Cpu</th>\n",
       "      <th>Ram</th>\n",
       "      <th>Memory</th>\n",
       "      <th>Gpu</th>\n",
       "      <th>OpSys</th>\n",
       "      <th>Weight</th>\n",
       "      <th>Price</th>\n",
       "    </tr>\n",
       "  </thead>\n",
       "  <tbody>\n",
       "    <tr>\n",
       "      <th>0</th>\n",
       "      <td>MSI</td>\n",
       "      <td>Business Laptop</td>\n",
       "      <td>17.040680</td>\n",
       "      <td>IPS Panel Retina Display 2560x1600</td>\n",
       "      <td>Intel Core i7</td>\n",
       "      <td>12GB</td>\n",
       "      <td>512GB SSD</td>\n",
       "      <td>Intel Iris Xe Graphics</td>\n",
       "      <td>Linux</td>\n",
       "      <td>2.064834</td>\n",
       "      <td>35844.099371</td>\n",
       "    </tr>\n",
       "    <tr>\n",
       "      <th>1</th>\n",
       "      <td>Chuwi</td>\n",
       "      <td>2 in 1 Convertible</td>\n",
       "      <td>16.542395</td>\n",
       "      <td>Full HD</td>\n",
       "      <td>Intel Core i5</td>\n",
       "      <td>12GB</td>\n",
       "      <td>128GB PCIe SSD</td>\n",
       "      <td>Intel Iris Xe Graphics</td>\n",
       "      <td>No OS</td>\n",
       "      <td>4.060656</td>\n",
       "      <td>37019.059051</td>\n",
       "    </tr>\n",
       "    <tr>\n",
       "      <th>2</th>\n",
       "      <td>hp</td>\n",
       "      <td>WorkStation</td>\n",
       "      <td>17.295294</td>\n",
       "      <td>Full HD</td>\n",
       "      <td>Intel Xeon E3-1505M</td>\n",
       "      <td>8GB</td>\n",
       "      <td>1TB HDD</td>\n",
       "      <td>Intel Iris Xe Graphics</td>\n",
       "      <td>Linux</td>\n",
       "      <td>2.901689</td>\n",
       "      <td>33329.360341</td>\n",
       "    </tr>\n",
       "    <tr>\n",
       "      <th>3</th>\n",
       "      <td>MSI</td>\n",
       "      <td>2 in 1 Convertible</td>\n",
       "      <td>11.526203</td>\n",
       "      <td>2K</td>\n",
       "      <td>Intel Core i7</td>\n",
       "      <td>16GB</td>\n",
       "      <td>512GB NVMe SSD</td>\n",
       "      <td>Intel Iris Xe Graphics</td>\n",
       "      <td>Windows 10</td>\n",
       "      <td>2.914843</td>\n",
       "      <td>68631.102486</td>\n",
       "    </tr>\n",
       "    <tr>\n",
       "      <th>4</th>\n",
       "      <td>Microsoft</td>\n",
       "      <td>Gaming</td>\n",
       "      <td>12.649634</td>\n",
       "      <td>Full HD</td>\n",
       "      <td>Intel Core i5</td>\n",
       "      <td>8GB</td>\n",
       "      <td>512GB SSD</td>\n",
       "      <td>AMD Radeon RX 5600M</td>\n",
       "      <td>Windows 10</td>\n",
       "      <td>4.341995</td>\n",
       "      <td>33842.479566</td>\n",
       "    </tr>\n",
       "  </tbody>\n",
       "</table>\n",
       "</div>"
      ],
      "text/plain": [
       "  CompanyName        TypeOfLaptop     Inches  \\\n",
       "0         MSI     Business Laptop  17.040680   \n",
       "1       Chuwi  2 in 1 Convertible  16.542395   \n",
       "2          hp         WorkStation  17.295294   \n",
       "3         MSI  2 in 1 Convertible  11.526203   \n",
       "4   Microsoft              Gaming  12.649634   \n",
       "\n",
       "                     ScreenResolution                   Cpu   Ram  \\\n",
       "0  IPS Panel Retina Display 2560x1600         Intel Core i7  12GB   \n",
       "1                             Full HD         Intel Core i5  12GB   \n",
       "2                             Full HD  Intel Xeon E3-1505M    8GB   \n",
       "3                                  2K         Intel Core i7  16GB   \n",
       "4                             Full HD         Intel Core i5   8GB   \n",
       "\n",
       "           Memory                     Gpu       OpSys    Weight         Price  \n",
       "0       512GB SSD  Intel Iris Xe Graphics       Linux  2.064834  35844.099371  \n",
       "1  128GB PCIe SSD  Intel Iris Xe Graphics       No OS  4.060656  37019.059051  \n",
       "2         1TB HDD  Intel Iris Xe Graphics       Linux  2.901689  33329.360341  \n",
       "3  512GB NVMe SSD  Intel Iris Xe Graphics  Windows 10  2.914843  68631.102486  \n",
       "4       512GB SSD     AMD Radeon RX 5600M  Windows 10  4.341995  33842.479566  "
      ]
     },
     "execution_count": 4,
     "metadata": {},
     "output_type": "execute_result"
    }
   ],
   "source": [
    "df.head()"
   ]
  },
  {
   "cell_type": "code",
   "execution_count": 5,
   "id": "3e07cb2e-9dbd-44b2-8d29-757f6639f580",
   "metadata": {},
   "outputs": [
    {
     "data": {
      "text/plain": [
       "CompanyName\n",
       "MSI          128\n",
       "Microsoft    118\n",
       "Apple        113\n",
       "lenevo       113\n",
       "Asus         112\n",
       "Chuwi        109\n",
       "Acer         107\n",
       "Dell         101\n",
       "hp            99\n",
       "Name: count, dtype: int64"
      ]
     },
     "execution_count": 5,
     "metadata": {},
     "output_type": "execute_result"
    }
   ],
   "source": [
    "df[\"CompanyName\"].value_counts()"
   ]
  },
  {
   "cell_type": "code",
   "execution_count": 6,
   "id": "230581ab-7a88-4d59-b7bc-05095a6846e3",
   "metadata": {},
   "outputs": [
    {
     "data": {
      "text/plain": [
       "TypeOfLaptop\n",
       "Business Laptop       176\n",
       "WorkStation           175\n",
       "Gaming                168\n",
       "UltraBook             166\n",
       "2 in 1 Convertible    162\n",
       "NoteBook              153\n",
       "Name: count, dtype: int64"
      ]
     },
     "execution_count": 6,
     "metadata": {},
     "output_type": "execute_result"
    }
   ],
   "source": [
    "df[\"TypeOfLaptop\"].value_counts()"
   ]
  },
  {
   "cell_type": "code",
   "execution_count": 7,
   "id": "30700fed-28d8-4b70-9d91-ffe235c18e1d",
   "metadata": {},
   "outputs": [
    {
     "data": {
      "text/plain": [
       "Inches\n",
       "17    157\n",
       "11    151\n",
       "15    145\n",
       "13    145\n",
       "12    140\n",
       "14    133\n",
       "16    129\n",
       "Name: count, dtype: int64"
      ]
     },
     "execution_count": 7,
     "metadata": {},
     "output_type": "execute_result"
    }
   ],
   "source": [
    "df[\"Inches\"].astype(\"int32\").value_counts()"
   ]
  },
  {
   "cell_type": "code",
   "execution_count": 8,
   "id": "f0b5204c-7948-40ec-a578-e9b43c712b27",
   "metadata": {},
   "outputs": [
    {
     "data": {
      "text/plain": [
       "ScreenResolution\n",
       "2K                                           181\n",
       "4K                                           179\n",
       "IPS Panel Full HD / Touchscreen 1920x1080    176\n",
       "Full HD                                      162\n",
       "HD 1920x1080                                 160\n",
       "IPS Panel Retina Display 2560x1600           142\n",
       "Name: count, dtype: int64"
      ]
     },
     "execution_count": 8,
     "metadata": {},
     "output_type": "execute_result"
    }
   ],
   "source": [
    "df[\"ScreenResolution\"].value_counts()"
   ]
  },
  {
   "cell_type": "markdown",
   "id": "a8af1995-d36f-4304-9df2-783a807c7e4c",
   "metadata": {},
   "source": [
    "* 2k ---> 2k\n",
    "* 4k ---> 4k\n",
    "* IPS Panel Full HD / Touchscreen 1920x1080 ---> Touchscreen\n",
    "* Full HD ---> FHD\n",
    "* HD 1920x1080 ---> FHD\n",
    "* IPS Panel Retina Display 2560x1600 ---> IPS"
   ]
  },
  {
   "cell_type": "code",
   "execution_count": 9,
   "id": "0c2c29a0-318e-40c1-aa9c-f2b8f303c520",
   "metadata": {},
   "outputs": [],
   "source": [
    "scr_res = df.groupby(\"ScreenResolution\")"
   ]
  },
  {
   "cell_type": "code",
   "execution_count": 10,
   "id": "0df546e1-a480-4eb4-b17b-5dbc9c3d7ff5",
   "metadata": {},
   "outputs": [
    {
     "data": {
      "text/html": [
       "<div>\n",
       "<style scoped>\n",
       "    .dataframe tbody tr th:only-of-type {\n",
       "        vertical-align: middle;\n",
       "    }\n",
       "\n",
       "    .dataframe tbody tr th {\n",
       "        vertical-align: top;\n",
       "    }\n",
       "\n",
       "    .dataframe thead th {\n",
       "        text-align: right;\n",
       "    }\n",
       "</style>\n",
       "<table border=\"1\" class=\"dataframe\">\n",
       "  <thead>\n",
       "    <tr style=\"text-align: right;\">\n",
       "      <th></th>\n",
       "      <th>Inches</th>\n",
       "      <th>Weight</th>\n",
       "      <th>Price</th>\n",
       "    </tr>\n",
       "    <tr>\n",
       "      <th>ScreenResolution</th>\n",
       "      <th></th>\n",
       "      <th></th>\n",
       "      <th></th>\n",
       "    </tr>\n",
       "  </thead>\n",
       "  <tbody>\n",
       "    <tr>\n",
       "      <th>2K</th>\n",
       "      <td>14.272977</td>\n",
       "      <td>3.476763</td>\n",
       "      <td>52736.516276</td>\n",
       "    </tr>\n",
       "    <tr>\n",
       "      <th>4K</th>\n",
       "      <td>14.402261</td>\n",
       "      <td>3.497000</td>\n",
       "      <td>51760.086067</td>\n",
       "    </tr>\n",
       "    <tr>\n",
       "      <th>Full HD</th>\n",
       "      <td>14.641199</td>\n",
       "      <td>3.449703</td>\n",
       "      <td>51147.123215</td>\n",
       "    </tr>\n",
       "    <tr>\n",
       "      <th>HD 1920x1080</th>\n",
       "      <td>14.562802</td>\n",
       "      <td>3.416618</td>\n",
       "      <td>50908.945915</td>\n",
       "    </tr>\n",
       "    <tr>\n",
       "      <th>IPS Panel Full HD / Touchscreen 1920x1080</th>\n",
       "      <td>14.523250</td>\n",
       "      <td>3.466553</td>\n",
       "      <td>51750.444321</td>\n",
       "    </tr>\n",
       "    <tr>\n",
       "      <th>IPS Panel Retina Display 2560x1600</th>\n",
       "      <td>14.628293</td>\n",
       "      <td>3.513509</td>\n",
       "      <td>51074.274506</td>\n",
       "    </tr>\n",
       "  </tbody>\n",
       "</table>\n",
       "</div>"
      ],
      "text/plain": [
       "                                              Inches    Weight         Price\n",
       "ScreenResolution                                                            \n",
       "2K                                         14.272977  3.476763  52736.516276\n",
       "4K                                         14.402261  3.497000  51760.086067\n",
       "Full HD                                    14.641199  3.449703  51147.123215\n",
       "HD 1920x1080                               14.562802  3.416618  50908.945915\n",
       "IPS Panel Full HD / Touchscreen 1920x1080  14.523250  3.466553  51750.444321\n",
       "IPS Panel Retina Display 2560x1600         14.628293  3.513509  51074.274506"
      ]
     },
     "execution_count": 10,
     "metadata": {},
     "output_type": "execute_result"
    }
   ],
   "source": [
    "scr_res.mean(\"Price\")"
   ]
  },
  {
   "cell_type": "code",
   "execution_count": 11,
   "id": "0e97a8a5-160f-486b-ae5e-516367656649",
   "metadata": {},
   "outputs": [
    {
     "data": {
      "text/plain": [
       "Cpu\n",
       "Intel Xeon E3-1505M               114\n",
       "Intel Atom x5-Z8550               111\n",
       "Intel Core i5                     105\n",
       "Intel Pentium Quad Core N4200     101\n",
       "Intel Celeron Dual Core 3855U      98\n",
       "Intel Core i7                      96\n",
       "Intel Core i9                      95\n",
       "AMD Ryzen 5                        94\n",
       "AMD Ryzen 7                        94\n",
       "AMD A9-Series 9420                 92\n",
       "Name: count, dtype: int64"
      ]
     },
     "execution_count": 11,
     "metadata": {},
     "output_type": "execute_result"
    }
   ],
   "source": [
    "df[\"Cpu\"].value_counts()"
   ]
  },
  {
   "cell_type": "code",
   "execution_count": 12,
   "id": "5ee68f9b-9392-48c1-9275-2e093734df3e",
   "metadata": {},
   "outputs": [
    {
     "data": {
      "text/html": [
       "<div>\n",
       "<style scoped>\n",
       "    .dataframe tbody tr th:only-of-type {\n",
       "        vertical-align: middle;\n",
       "    }\n",
       "\n",
       "    .dataframe tbody tr th {\n",
       "        vertical-align: top;\n",
       "    }\n",
       "\n",
       "    .dataframe thead th {\n",
       "        text-align: right;\n",
       "    }\n",
       "</style>\n",
       "<table border=\"1\" class=\"dataframe\">\n",
       "  <thead>\n",
       "    <tr style=\"text-align: right;\">\n",
       "      <th></th>\n",
       "      <th>Inches</th>\n",
       "      <th>Weight</th>\n",
       "      <th>Price</th>\n",
       "    </tr>\n",
       "    <tr>\n",
       "      <th>Cpu</th>\n",
       "      <th></th>\n",
       "      <th></th>\n",
       "      <th></th>\n",
       "    </tr>\n",
       "  </thead>\n",
       "  <tbody>\n",
       "    <tr>\n",
       "      <th>AMD A9-Series 9420</th>\n",
       "      <td>14.624855</td>\n",
       "      <td>3.427125</td>\n",
       "      <td>51314.377223</td>\n",
       "    </tr>\n",
       "    <tr>\n",
       "      <th>AMD Ryzen 5</th>\n",
       "      <td>14.274693</td>\n",
       "      <td>3.415878</td>\n",
       "      <td>50364.093687</td>\n",
       "    </tr>\n",
       "    <tr>\n",
       "      <th>AMD Ryzen 7</th>\n",
       "      <td>14.654603</td>\n",
       "      <td>3.482573</td>\n",
       "      <td>50998.178575</td>\n",
       "    </tr>\n",
       "    <tr>\n",
       "      <th>Intel Atom x5-Z8550</th>\n",
       "      <td>14.426874</td>\n",
       "      <td>3.523022</td>\n",
       "      <td>53163.072970</td>\n",
       "    </tr>\n",
       "    <tr>\n",
       "      <th>Intel Celeron Dual Core 3855U</th>\n",
       "      <td>14.604752</td>\n",
       "      <td>3.527997</td>\n",
       "      <td>52847.195028</td>\n",
       "    </tr>\n",
       "    <tr>\n",
       "      <th>Intel Core i5</th>\n",
       "      <td>14.468193</td>\n",
       "      <td>3.478905</td>\n",
       "      <td>50071.426457</td>\n",
       "    </tr>\n",
       "    <tr>\n",
       "      <th>Intel Core i7</th>\n",
       "      <td>14.512958</td>\n",
       "      <td>3.464377</td>\n",
       "      <td>52396.313644</td>\n",
       "    </tr>\n",
       "    <tr>\n",
       "      <th>Intel Core i9</th>\n",
       "      <td>14.575792</td>\n",
       "      <td>3.498217</td>\n",
       "      <td>51342.247600</td>\n",
       "    </tr>\n",
       "    <tr>\n",
       "      <th>Intel Pentium Quad Core N4200</th>\n",
       "      <td>14.157950</td>\n",
       "      <td>3.579587</td>\n",
       "      <td>51851.576611</td>\n",
       "    </tr>\n",
       "    <tr>\n",
       "      <th>Intel Xeon E3-1505M</th>\n",
       "      <td>14.667536</td>\n",
       "      <td>3.311549</td>\n",
       "      <td>51500.738443</td>\n",
       "    </tr>\n",
       "  </tbody>\n",
       "</table>\n",
       "</div>"
      ],
      "text/plain": [
       "                                   Inches    Weight         Price\n",
       "Cpu                                                              \n",
       "AMD A9-Series 9420              14.624855  3.427125  51314.377223\n",
       "AMD Ryzen 5                     14.274693  3.415878  50364.093687\n",
       "AMD Ryzen 7                     14.654603  3.482573  50998.178575\n",
       "Intel Atom x5-Z8550             14.426874  3.523022  53163.072970\n",
       "Intel Celeron Dual Core 3855U   14.604752  3.527997  52847.195028\n",
       "Intel Core i5                   14.468193  3.478905  50071.426457\n",
       "Intel Core i7                   14.512958  3.464377  52396.313644\n",
       "Intel Core i9                   14.575792  3.498217  51342.247600\n",
       "Intel Pentium Quad Core N4200   14.157950  3.579587  51851.576611\n",
       "Intel Xeon E3-1505M             14.667536  3.311549  51500.738443"
      ]
     },
     "execution_count": 12,
     "metadata": {},
     "output_type": "execute_result"
    }
   ],
   "source": [
    "df.groupby(\"Cpu\").mean(\"Price\")"
   ]
  },
  {
   "cell_type": "code",
   "execution_count": 13,
   "id": "e4676b36-ebde-4f13-aa0a-dcb29fe64594",
   "metadata": {},
   "outputs": [
    {
     "data": {
      "text/plain": [
       "Ram\n",
       "8GB     270\n",
       "12GB    247\n",
       "4GB     243\n",
       "16GB    240\n",
       "Name: count, dtype: int64"
      ]
     },
     "execution_count": 13,
     "metadata": {},
     "output_type": "execute_result"
    }
   ],
   "source": [
    "df[\"Ram\"].value_counts()"
   ]
  },
  {
   "cell_type": "code",
   "execution_count": 14,
   "id": "e2666c76-a57e-4476-833f-16ae637c5951",
   "metadata": {},
   "outputs": [
    {
     "data": {
      "text/plain": [
       "Memory\n",
       "1TB HDD                105\n",
       "2TB SATA SSD            63\n",
       "1TB SSHD                61\n",
       "4TB HDD                 60\n",
       "512GB eMMC              59\n",
       "128GB PCIe SSD          58\n",
       "1TB NVMe SSD            55\n",
       "256GB PCIe SSD          55\n",
       "512GB NVMe SSD          54\n",
       "512GB SSD               51\n",
       "256GB SSD               50\n",
       "2TB HDD                 50\n",
       "1TB Fusion Drive        50\n",
       "2TB NVMe SSD            49\n",
       "256GB Flash Storage     46\n",
       "6TB HDD                 45\n",
       "256GB eMMC              45\n",
       "128GB SSD               44\n",
       "Name: count, dtype: int64"
      ]
     },
     "execution_count": 14,
     "metadata": {},
     "output_type": "execute_result"
    }
   ],
   "source": [
    "df[\"Memory\"].value_counts()"
   ]
  },
  {
   "cell_type": "code",
   "execution_count": 15,
   "id": "7dab8bc8-ecb5-4421-90ab-94198e05f866",
   "metadata": {},
   "outputs": [],
   "source": [
    "df[\"Memory\"] = df[\"Memory\"].str.replace(\"Fusion Drive\", \"HDD\")"
   ]
  },
  {
   "cell_type": "code",
   "execution_count": 16,
   "id": "865c0ad7-8e72-44e4-848c-424b788eb365",
   "metadata": {},
   "outputs": [],
   "source": [
    "df[\"Memory\"] = df[\"Memory\"].str.replace(\"SATA SSD\", \"SSD\")"
   ]
  },
  {
   "cell_type": "code",
   "execution_count": 17,
   "id": "58484c5b-7c5b-4e2a-9a71-b5929d86d43f",
   "metadata": {},
   "outputs": [
    {
     "data": {
      "text/plain": [
       "Memory\n",
       "1TB HDD                155\n",
       "2TB SSD                 63\n",
       "1TB SSHD                61\n",
       "4TB HDD                 60\n",
       "512GB eMMC              59\n",
       "128GB PCIe SSD          58\n",
       "1TB NVMe SSD            55\n",
       "256GB PCIe SSD          55\n",
       "512GB NVMe SSD          54\n",
       "512GB SSD               51\n",
       "256GB SSD               50\n",
       "2TB HDD                 50\n",
       "2TB NVMe SSD            49\n",
       "256GB Flash Storage     46\n",
       "256GB eMMC              45\n",
       "6TB HDD                 45\n",
       "128GB SSD               44\n",
       "Name: count, dtype: int64"
      ]
     },
     "execution_count": 17,
     "metadata": {},
     "output_type": "execute_result"
    }
   ],
   "source": [
    "df[\"Memory\"].value_counts()"
   ]
  },
  {
   "cell_type": "code",
   "execution_count": 18,
   "id": "89958ca1-88bd-4ed4-887b-84ae762b3341",
   "metadata": {},
   "outputs": [],
   "source": [
    "HDD = []\n",
    "SSD = []\n",
    "\n",
    "for i in df[\"Memory\"]:\n",
    "    if i[-3:] == \"HDD\":\n",
    "        HDD.append(i.replace(\"HDD\",\"\"))\n",
    "        SSD.append(\"0\")\n",
    "    elif i[-3:] == \"SSD\":\n",
    "        SSD.append(i.replace(\"SSD\", \"\"))\n",
    "        HDD.append(\"0\")"
   ]
  },
  {
   "cell_type": "code",
   "execution_count": 19,
   "id": "46587d85-3546-46b8-bdbf-45c7d9d81b9e",
   "metadata": {},
   "outputs": [
    {
     "data": {
      "text/plain": [
       "789"
      ]
     },
     "execution_count": 19,
     "metadata": {},
     "output_type": "execute_result"
    }
   ],
   "source": [
    "len(HDD)"
   ]
  },
  {
   "cell_type": "code",
   "execution_count": 20,
   "id": "6d3dc17a-d967-4f5f-a32b-daceca227297",
   "metadata": {},
   "outputs": [
    {
     "data": {
      "text/plain": [
       "789"
      ]
     },
     "execution_count": 20,
     "metadata": {},
     "output_type": "execute_result"
    }
   ],
   "source": [
    "len(SSD)"
   ]
  },
  {
   "cell_type": "code",
   "execution_count": 34,
   "id": "9e8ba852",
   "metadata": {},
   "outputs": [],
   "source": [
    "df.reset_index(drop=True, inplace=True)"
   ]
  },
  {
   "cell_type": "code",
   "execution_count": 35,
   "id": "791333b1-a6f0-4ba2-bd8b-fc93f62cceed",
   "metadata": {},
   "outputs": [
    {
     "data": {
      "text/plain": [
       "1000"
      ]
     },
     "execution_count": 35,
     "metadata": {},
     "output_type": "execute_result"
    }
   ],
   "source": [
    "len(df)"
   ]
  },
  {
   "cell_type": "code",
   "execution_count": 38,
   "id": "c2f4599a-afcc-48f2-9e71-0af9775e2011",
   "metadata": {
    "scrolled": true
   },
   "outputs": [],
   "source": [
    "df[\"HDD\"] = \"HDD\""
   ]
  },
  {
   "cell_type": "code",
   "execution_count": 40,
   "id": "0fcde48d",
   "metadata": {},
   "outputs": [
    {
     "data": {
      "text/plain": [
       "0      HDD\n",
       "1      HDD\n",
       "2      HDD\n",
       "3      HDD\n",
       "4      HDD\n",
       "      ... \n",
       "995    HDD\n",
       "996    HDD\n",
       "997    HDD\n",
       "998    HDD\n",
       "999    HDD\n",
       "Name: HDD, Length: 1000, dtype: object"
      ]
     },
     "execution_count": 40,
     "metadata": {},
     "output_type": "execute_result"
    }
   ],
   "source": [
    "df[\"HDD\"]"
   ]
  },
  {
   "cell_type": "code",
   "execution_count": 39,
   "id": "add0356c",
   "metadata": {},
   "outputs": [
    {
     "name": "stdout",
     "output_type": "stream",
     "text": [
      "<class 'pandas.core.frame.DataFrame'>\n",
      "RangeIndex: 1000 entries, 0 to 999\n",
      "Data columns (total 12 columns):\n",
      " #   Column            Non-Null Count  Dtype  \n",
      "---  ------            --------------  -----  \n",
      " 0   CompanyName       1000 non-null   object \n",
      " 1   TypeOfLaptop      1000 non-null   object \n",
      " 2   Inches            1000 non-null   float64\n",
      " 3   ScreenResolution  1000 non-null   object \n",
      " 4   Cpu               1000 non-null   object \n",
      " 5   Ram               1000 non-null   object \n",
      " 6   Memory            1000 non-null   object \n",
      " 7   Gpu               1000 non-null   object \n",
      " 8   OpSys             1000 non-null   object \n",
      " 9   Weight            1000 non-null   float64\n",
      " 10  Price             1000 non-null   float64\n",
      " 11  HDD               1000 non-null   object \n",
      "dtypes: float64(3), object(9)\n",
      "memory usage: 93.9+ KB\n"
     ]
    }
   ],
   "source": [
    "df.info()"
   ]
  },
  {
   "cell_type": "code",
   "execution_count": 24,
   "id": "6bfd42fd-e052-4bf8-bacd-f41dc5398d4c",
   "metadata": {
    "scrolled": true
   },
   "outputs": [
    {
     "data": {
      "text/html": [
       "<div>\n",
       "<style scoped>\n",
       "    .dataframe tbody tr th:only-of-type {\n",
       "        vertical-align: middle;\n",
       "    }\n",
       "\n",
       "    .dataframe tbody tr th {\n",
       "        vertical-align: top;\n",
       "    }\n",
       "\n",
       "    .dataframe thead th {\n",
       "        text-align: right;\n",
       "    }\n",
       "</style>\n",
       "<table border=\"1\" class=\"dataframe\">\n",
       "  <thead>\n",
       "    <tr style=\"text-align: right;\">\n",
       "      <th></th>\n",
       "      <th>CompanyName</th>\n",
       "      <th>TypeOfLaptop</th>\n",
       "      <th>Inches</th>\n",
       "      <th>ScreenResolution</th>\n",
       "      <th>Cpu</th>\n",
       "      <th>Ram</th>\n",
       "      <th>Memory</th>\n",
       "      <th>Gpu</th>\n",
       "      <th>OpSys</th>\n",
       "      <th>Weight</th>\n",
       "      <th>Price</th>\n",
       "    </tr>\n",
       "  </thead>\n",
       "  <tbody>\n",
       "    <tr>\n",
       "      <th>0</th>\n",
       "      <td>MSI</td>\n",
       "      <td>Business Laptop</td>\n",
       "      <td>17.040680</td>\n",
       "      <td>IPS Panel Retina Display 2560x1600</td>\n",
       "      <td>Intel Core i7</td>\n",
       "      <td>12GB</td>\n",
       "      <td>512GB SSD</td>\n",
       "      <td>Intel Iris Xe Graphics</td>\n",
       "      <td>Linux</td>\n",
       "      <td>2.064834</td>\n",
       "      <td>35844.099371</td>\n",
       "    </tr>\n",
       "    <tr>\n",
       "      <th>1</th>\n",
       "      <td>Chuwi</td>\n",
       "      <td>2 in 1 Convertible</td>\n",
       "      <td>16.542395</td>\n",
       "      <td>Full HD</td>\n",
       "      <td>Intel Core i5</td>\n",
       "      <td>12GB</td>\n",
       "      <td>128GB PCIe SSD</td>\n",
       "      <td>Intel Iris Xe Graphics</td>\n",
       "      <td>No OS</td>\n",
       "      <td>4.060656</td>\n",
       "      <td>37019.059051</td>\n",
       "    </tr>\n",
       "    <tr>\n",
       "      <th>2</th>\n",
       "      <td>hp</td>\n",
       "      <td>WorkStation</td>\n",
       "      <td>17.295294</td>\n",
       "      <td>Full HD</td>\n",
       "      <td>Intel Xeon E3-1505M</td>\n",
       "      <td>8GB</td>\n",
       "      <td>1TB HDD</td>\n",
       "      <td>Intel Iris Xe Graphics</td>\n",
       "      <td>Linux</td>\n",
       "      <td>2.901689</td>\n",
       "      <td>33329.360341</td>\n",
       "    </tr>\n",
       "    <tr>\n",
       "      <th>3</th>\n",
       "      <td>MSI</td>\n",
       "      <td>2 in 1 Convertible</td>\n",
       "      <td>11.526203</td>\n",
       "      <td>2K</td>\n",
       "      <td>Intel Core i7</td>\n",
       "      <td>16GB</td>\n",
       "      <td>512GB NVMe SSD</td>\n",
       "      <td>Intel Iris Xe Graphics</td>\n",
       "      <td>Windows 10</td>\n",
       "      <td>2.914843</td>\n",
       "      <td>68631.102486</td>\n",
       "    </tr>\n",
       "    <tr>\n",
       "      <th>4</th>\n",
       "      <td>Microsoft</td>\n",
       "      <td>Gaming</td>\n",
       "      <td>12.649634</td>\n",
       "      <td>Full HD</td>\n",
       "      <td>Intel Core i5</td>\n",
       "      <td>8GB</td>\n",
       "      <td>512GB SSD</td>\n",
       "      <td>AMD Radeon RX 5600M</td>\n",
       "      <td>Windows 10</td>\n",
       "      <td>4.341995</td>\n",
       "      <td>33842.479566</td>\n",
       "    </tr>\n",
       "    <tr>\n",
       "      <th>5</th>\n",
       "      <td>Apple</td>\n",
       "      <td>WorkStation</td>\n",
       "      <td>15.543249</td>\n",
       "      <td>HD 1920x1080</td>\n",
       "      <td>Intel Atom x5-Z8550</td>\n",
       "      <td>16GB</td>\n",
       "      <td>1TB NVMe SSD</td>\n",
       "      <td>NVIDIA GeForce GTX 1650</td>\n",
       "      <td>macOS</td>\n",
       "      <td>3.580368</td>\n",
       "      <td>83937.484249</td>\n",
       "    </tr>\n",
       "    <tr>\n",
       "      <th>6</th>\n",
       "      <td>lenevo</td>\n",
       "      <td>NoteBook</td>\n",
       "      <td>15.559451</td>\n",
       "      <td>2K</td>\n",
       "      <td>Intel Xeon E3-1505M</td>\n",
       "      <td>8GB</td>\n",
       "      <td>512GB SSD</td>\n",
       "      <td>Intel Iris Xe Graphics</td>\n",
       "      <td>Windows 11</td>\n",
       "      <td>4.050894</td>\n",
       "      <td>62896.017385</td>\n",
       "    </tr>\n",
       "    <tr>\n",
       "      <th>7</th>\n",
       "      <td>Asus</td>\n",
       "      <td>UltraBook</td>\n",
       "      <td>17.806917</td>\n",
       "      <td>IPS Panel Full HD / Touchscreen 1920x1080</td>\n",
       "      <td>Intel Celeron Dual Core 3855U</td>\n",
       "      <td>12GB</td>\n",
       "      <td>256GB PCIe SSD</td>\n",
       "      <td>NVIDIA GeForce GTX 1650</td>\n",
       "      <td>macOS</td>\n",
       "      <td>4.402627</td>\n",
       "      <td>35919.072831</td>\n",
       "    </tr>\n",
       "    <tr>\n",
       "      <th>8</th>\n",
       "      <td>Microsoft</td>\n",
       "      <td>Business Laptop</td>\n",
       "      <td>12.846039</td>\n",
       "      <td>IPS Panel Retina Display 2560x1600</td>\n",
       "      <td>Intel Core i9</td>\n",
       "      <td>12GB</td>\n",
       "      <td>128GB SSD</td>\n",
       "      <td>NVIDIA GeForce GTX 1650</td>\n",
       "      <td>Linux</td>\n",
       "      <td>3.700557</td>\n",
       "      <td>45011.851908</td>\n",
       "    </tr>\n",
       "    <tr>\n",
       "      <th>9</th>\n",
       "      <td>Microsoft</td>\n",
       "      <td>UltraBook</td>\n",
       "      <td>15.204180</td>\n",
       "      <td>Full HD</td>\n",
       "      <td>AMD A9-Series 9420</td>\n",
       "      <td>8GB</td>\n",
       "      <td>128GB PCIe SSD</td>\n",
       "      <td>NVIDIA GeForce GTX 1650</td>\n",
       "      <td>No OS</td>\n",
       "      <td>3.656769</td>\n",
       "      <td>52669.310830</td>\n",
       "    </tr>\n",
       "  </tbody>\n",
       "</table>\n",
       "</div>"
      ],
      "text/plain": [
       "  CompanyName        TypeOfLaptop     Inches  \\\n",
       "0         MSI     Business Laptop  17.040680   \n",
       "1       Chuwi  2 in 1 Convertible  16.542395   \n",
       "2          hp         WorkStation  17.295294   \n",
       "3         MSI  2 in 1 Convertible  11.526203   \n",
       "4   Microsoft              Gaming  12.649634   \n",
       "5       Apple         WorkStation  15.543249   \n",
       "6      lenevo            NoteBook  15.559451   \n",
       "7        Asus           UltraBook  17.806917   \n",
       "8   Microsoft     Business Laptop  12.846039   \n",
       "9   Microsoft           UltraBook  15.204180   \n",
       "\n",
       "                            ScreenResolution                             Cpu  \\\n",
       "0         IPS Panel Retina Display 2560x1600                   Intel Core i7   \n",
       "1                                    Full HD                   Intel Core i5   \n",
       "2                                    Full HD            Intel Xeon E3-1505M    \n",
       "3                                         2K                   Intel Core i7   \n",
       "4                                    Full HD                   Intel Core i5   \n",
       "5                              HD 1920x1080              Intel Atom x5-Z8550   \n",
       "6                                         2K            Intel Xeon E3-1505M    \n",
       "7  IPS Panel Full HD / Touchscreen 1920x1080  Intel Celeron Dual Core 3855U    \n",
       "8         IPS Panel Retina Display 2560x1600                   Intel Core i9   \n",
       "9                                    Full HD              AMD A9-Series 9420   \n",
       "\n",
       "    Ram          Memory                      Gpu       OpSys    Weight  \\\n",
       "0  12GB       512GB SSD   Intel Iris Xe Graphics       Linux  2.064834   \n",
       "1  12GB  128GB PCIe SSD   Intel Iris Xe Graphics       No OS  4.060656   \n",
       "2   8GB         1TB HDD   Intel Iris Xe Graphics       Linux  2.901689   \n",
       "3  16GB  512GB NVMe SSD   Intel Iris Xe Graphics  Windows 10  2.914843   \n",
       "4   8GB       512GB SSD      AMD Radeon RX 5600M  Windows 10  4.341995   \n",
       "5  16GB    1TB NVMe SSD  NVIDIA GeForce GTX 1650       macOS  3.580368   \n",
       "6   8GB       512GB SSD   Intel Iris Xe Graphics  Windows 11  4.050894   \n",
       "7  12GB  256GB PCIe SSD  NVIDIA GeForce GTX 1650       macOS  4.402627   \n",
       "8  12GB       128GB SSD  NVIDIA GeForce GTX 1650       Linux  3.700557   \n",
       "9   8GB  128GB PCIe SSD  NVIDIA GeForce GTX 1650       No OS  3.656769   \n",
       "\n",
       "          Price  \n",
       "0  35844.099371  \n",
       "1  37019.059051  \n",
       "2  33329.360341  \n",
       "3  68631.102486  \n",
       "4  33842.479566  \n",
       "5  83937.484249  \n",
       "6  62896.017385  \n",
       "7  35919.072831  \n",
       "8  45011.851908  \n",
       "9  52669.310830  "
      ]
     },
     "execution_count": 24,
     "metadata": {},
     "output_type": "execute_result"
    }
   ],
   "source": [
    "df.head(10)"
   ]
  },
  {
   "cell_type": "code",
   "execution_count": 25,
   "id": "6c42351a-cf81-4a27-8739-8098b6abaa44",
   "metadata": {
    "scrolled": true
   },
   "outputs": [
    {
     "data": {
      "text/html": [
       "<div>\n",
       "<style scoped>\n",
       "    .dataframe tbody tr th:only-of-type {\n",
       "        vertical-align: middle;\n",
       "    }\n",
       "\n",
       "    .dataframe tbody tr th {\n",
       "        vertical-align: top;\n",
       "    }\n",
       "\n",
       "    .dataframe thead th {\n",
       "        text-align: right;\n",
       "    }\n",
       "</style>\n",
       "<table border=\"1\" class=\"dataframe\">\n",
       "  <thead>\n",
       "    <tr style=\"text-align: right;\">\n",
       "      <th></th>\n",
       "      <th>CompanyName</th>\n",
       "      <th>TypeOfLaptop</th>\n",
       "      <th>Inches</th>\n",
       "      <th>ScreenResolution</th>\n",
       "      <th>Cpu</th>\n",
       "      <th>Ram</th>\n",
       "      <th>Memory</th>\n",
       "      <th>Gpu</th>\n",
       "      <th>OpSys</th>\n",
       "      <th>Weight</th>\n",
       "      <th>Price</th>\n",
       "    </tr>\n",
       "  </thead>\n",
       "  <tbody>\n",
       "    <tr>\n",
       "      <th>990</th>\n",
       "      <td>Acer</td>\n",
       "      <td>Business Laptop</td>\n",
       "      <td>11.805795</td>\n",
       "      <td>IPS Panel Full HD / Touchscreen 1920x1080</td>\n",
       "      <td>AMD A9-Series 9420</td>\n",
       "      <td>12GB</td>\n",
       "      <td>2TB SSD</td>\n",
       "      <td>Intel Iris Xe Graphics</td>\n",
       "      <td>Windows 10</td>\n",
       "      <td>2.478351</td>\n",
       "      <td>40606.463409</td>\n",
       "    </tr>\n",
       "    <tr>\n",
       "      <th>991</th>\n",
       "      <td>MSI</td>\n",
       "      <td>UltraBook</td>\n",
       "      <td>14.782746</td>\n",
       "      <td>IPS Panel Full HD / Touchscreen 1920x1080</td>\n",
       "      <td>Intel Core i9</td>\n",
       "      <td>4GB</td>\n",
       "      <td>256GB PCIe SSD</td>\n",
       "      <td>NVIDIA GeForce GTX 1650</td>\n",
       "      <td>No OS</td>\n",
       "      <td>4.286027</td>\n",
       "      <td>41026.108201</td>\n",
       "    </tr>\n",
       "    <tr>\n",
       "      <th>992</th>\n",
       "      <td>lenevo</td>\n",
       "      <td>UltraBook</td>\n",
       "      <td>17.821741</td>\n",
       "      <td>4K</td>\n",
       "      <td>Intel Xeon E3-1505M</td>\n",
       "      <td>8GB</td>\n",
       "      <td>1TB NVMe SSD</td>\n",
       "      <td>NVIDIA GeForce GTX 1650</td>\n",
       "      <td>macOS</td>\n",
       "      <td>2.748768</td>\n",
       "      <td>33751.485105</td>\n",
       "    </tr>\n",
       "    <tr>\n",
       "      <th>993</th>\n",
       "      <td>Microsoft</td>\n",
       "      <td>NoteBook</td>\n",
       "      <td>14.366505</td>\n",
       "      <td>HD 1920x1080</td>\n",
       "      <td>Intel Core i9</td>\n",
       "      <td>4GB</td>\n",
       "      <td>2TB SSD</td>\n",
       "      <td>Intel Iris Xe Graphics</td>\n",
       "      <td>No OS</td>\n",
       "      <td>2.168925</td>\n",
       "      <td>55874.373064</td>\n",
       "    </tr>\n",
       "    <tr>\n",
       "      <th>994</th>\n",
       "      <td>hp</td>\n",
       "      <td>Business Laptop</td>\n",
       "      <td>16.427102</td>\n",
       "      <td>HD 1920x1080</td>\n",
       "      <td>Intel Xeon E3-1505M</td>\n",
       "      <td>8GB</td>\n",
       "      <td>4TB HDD</td>\n",
       "      <td>AMD Radeon RX 5600M</td>\n",
       "      <td>macOS</td>\n",
       "      <td>3.782639</td>\n",
       "      <td>49870.664841</td>\n",
       "    </tr>\n",
       "    <tr>\n",
       "      <th>995</th>\n",
       "      <td>hp</td>\n",
       "      <td>Gaming</td>\n",
       "      <td>16.242566</td>\n",
       "      <td>HD 1920x1080</td>\n",
       "      <td>AMD A9-Series 9420</td>\n",
       "      <td>8GB</td>\n",
       "      <td>128GB SSD</td>\n",
       "      <td>AMD Radeon RX 5600M</td>\n",
       "      <td>Windows 10</td>\n",
       "      <td>4.685053</td>\n",
       "      <td>40254.533272</td>\n",
       "    </tr>\n",
       "    <tr>\n",
       "      <th>996</th>\n",
       "      <td>Microsoft</td>\n",
       "      <td>WorkStation</td>\n",
       "      <td>17.450809</td>\n",
       "      <td>4K</td>\n",
       "      <td>Intel Celeron Dual Core 3855U</td>\n",
       "      <td>8GB</td>\n",
       "      <td>2TB SSD</td>\n",
       "      <td>NVIDIA GeForce GTX 1650</td>\n",
       "      <td>macOS</td>\n",
       "      <td>3.934182</td>\n",
       "      <td>57272.697780</td>\n",
       "    </tr>\n",
       "    <tr>\n",
       "      <th>997</th>\n",
       "      <td>lenevo</td>\n",
       "      <td>NoteBook</td>\n",
       "      <td>13.761288</td>\n",
       "      <td>HD 1920x1080</td>\n",
       "      <td>AMD Ryzen 7</td>\n",
       "      <td>16GB</td>\n",
       "      <td>128GB PCIe SSD</td>\n",
       "      <td>NVIDIA GeForce GTX 1650</td>\n",
       "      <td>Windows 10</td>\n",
       "      <td>4.047468</td>\n",
       "      <td>48214.606894</td>\n",
       "    </tr>\n",
       "    <tr>\n",
       "      <th>998</th>\n",
       "      <td>Asus</td>\n",
       "      <td>UltraBook</td>\n",
       "      <td>11.038000</td>\n",
       "      <td>IPS Panel Retina Display 2560x1600</td>\n",
       "      <td>Intel Core i9</td>\n",
       "      <td>12GB</td>\n",
       "      <td>1TB HDD</td>\n",
       "      <td>Intel Iris Xe Graphics</td>\n",
       "      <td>No OS</td>\n",
       "      <td>3.669825</td>\n",
       "      <td>58926.553683</td>\n",
       "    </tr>\n",
       "    <tr>\n",
       "      <th>999</th>\n",
       "      <td>Dell</td>\n",
       "      <td>NoteBook</td>\n",
       "      <td>11.005842</td>\n",
       "      <td>Full HD</td>\n",
       "      <td>Intel Celeron Dual Core 3855U</td>\n",
       "      <td>4GB</td>\n",
       "      <td>4TB HDD</td>\n",
       "      <td>Intel Iris Xe Graphics</td>\n",
       "      <td>No OS</td>\n",
       "      <td>4.799675</td>\n",
       "      <td>63873.992922</td>\n",
       "    </tr>\n",
       "  </tbody>\n",
       "</table>\n",
       "</div>"
      ],
      "text/plain": [
       "    CompanyName     TypeOfLaptop     Inches  \\\n",
       "990        Acer  Business Laptop  11.805795   \n",
       "991         MSI        UltraBook  14.782746   \n",
       "992      lenevo        UltraBook  17.821741   \n",
       "993   Microsoft         NoteBook  14.366505   \n",
       "994          hp  Business Laptop  16.427102   \n",
       "995          hp           Gaming  16.242566   \n",
       "996   Microsoft      WorkStation  17.450809   \n",
       "997      lenevo         NoteBook  13.761288   \n",
       "998        Asus        UltraBook  11.038000   \n",
       "999        Dell         NoteBook  11.005842   \n",
       "\n",
       "                              ScreenResolution  \\\n",
       "990  IPS Panel Full HD / Touchscreen 1920x1080   \n",
       "991  IPS Panel Full HD / Touchscreen 1920x1080   \n",
       "992                                         4K   \n",
       "993                              HD 1920x1080    \n",
       "994                              HD 1920x1080    \n",
       "995                              HD 1920x1080    \n",
       "996                                         4K   \n",
       "997                              HD 1920x1080    \n",
       "998         IPS Panel Retina Display 2560x1600   \n",
       "999                                    Full HD   \n",
       "\n",
       "                                Cpu   Ram          Memory  \\\n",
       "990              AMD A9-Series 9420  12GB         2TB SSD   \n",
       "991                   Intel Core i9   4GB  256GB PCIe SSD   \n",
       "992            Intel Xeon E3-1505M    8GB    1TB NVMe SSD   \n",
       "993                   Intel Core i9   4GB         2TB SSD   \n",
       "994            Intel Xeon E3-1505M    8GB         4TB HDD   \n",
       "995              AMD A9-Series 9420   8GB       128GB SSD   \n",
       "996  Intel Celeron Dual Core 3855U    8GB         2TB SSD   \n",
       "997                     AMD Ryzen 7  16GB  128GB PCIe SSD   \n",
       "998                   Intel Core i9  12GB         1TB HDD   \n",
       "999  Intel Celeron Dual Core 3855U    4GB         4TB HDD   \n",
       "\n",
       "                         Gpu       OpSys    Weight         Price  \n",
       "990   Intel Iris Xe Graphics  Windows 10  2.478351  40606.463409  \n",
       "991  NVIDIA GeForce GTX 1650       No OS  4.286027  41026.108201  \n",
       "992  NVIDIA GeForce GTX 1650       macOS  2.748768  33751.485105  \n",
       "993   Intel Iris Xe Graphics       No OS  2.168925  55874.373064  \n",
       "994      AMD Radeon RX 5600M       macOS  3.782639  49870.664841  \n",
       "995      AMD Radeon RX 5600M  Windows 10  4.685053  40254.533272  \n",
       "996  NVIDIA GeForce GTX 1650       macOS  3.934182  57272.697780  \n",
       "997  NVIDIA GeForce GTX 1650  Windows 10  4.047468  48214.606894  \n",
       "998   Intel Iris Xe Graphics       No OS  3.669825  58926.553683  \n",
       "999   Intel Iris Xe Graphics       No OS  4.799675  63873.992922  "
      ]
     },
     "execution_count": 25,
     "metadata": {},
     "output_type": "execute_result"
    }
   ],
   "source": [
    "df.tail(10)"
   ]
  },
  {
   "cell_type": "code",
   "execution_count": 26,
   "id": "6b42ea26-85f4-4d73-8feb-873b44a27880",
   "metadata": {},
   "outputs": [],
   "source": [
    "#df.drop(\"Memory\", axis=1, inplace = True)"
   ]
  },
  {
   "cell_type": "code",
   "execution_count": 27,
   "id": "6fe8eb02-5e24-4757-a06a-d885ab61b5b5",
   "metadata": {},
   "outputs": [
    {
     "data": {
      "text/html": [
       "<div>\n",
       "<style scoped>\n",
       "    .dataframe tbody tr th:only-of-type {\n",
       "        vertical-align: middle;\n",
       "    }\n",
       "\n",
       "    .dataframe tbody tr th {\n",
       "        vertical-align: top;\n",
       "    }\n",
       "\n",
       "    .dataframe thead th {\n",
       "        text-align: right;\n",
       "    }\n",
       "</style>\n",
       "<table border=\"1\" class=\"dataframe\">\n",
       "  <thead>\n",
       "    <tr style=\"text-align: right;\">\n",
       "      <th></th>\n",
       "      <th>CompanyName</th>\n",
       "      <th>TypeOfLaptop</th>\n",
       "      <th>Inches</th>\n",
       "      <th>ScreenResolution</th>\n",
       "      <th>Cpu</th>\n",
       "      <th>Ram</th>\n",
       "      <th>Memory</th>\n",
       "      <th>Gpu</th>\n",
       "      <th>OpSys</th>\n",
       "      <th>Weight</th>\n",
       "      <th>Price</th>\n",
       "    </tr>\n",
       "  </thead>\n",
       "  <tbody>\n",
       "    <tr>\n",
       "      <th>0</th>\n",
       "      <td>MSI</td>\n",
       "      <td>Business Laptop</td>\n",
       "      <td>17.040680</td>\n",
       "      <td>IPS Panel Retina Display 2560x1600</td>\n",
       "      <td>Intel Core i7</td>\n",
       "      <td>12GB</td>\n",
       "      <td>512GB SSD</td>\n",
       "      <td>Intel Iris Xe Graphics</td>\n",
       "      <td>Linux</td>\n",
       "      <td>2.064834</td>\n",
       "      <td>35844.099371</td>\n",
       "    </tr>\n",
       "    <tr>\n",
       "      <th>1</th>\n",
       "      <td>Chuwi</td>\n",
       "      <td>2 in 1 Convertible</td>\n",
       "      <td>16.542395</td>\n",
       "      <td>Full HD</td>\n",
       "      <td>Intel Core i5</td>\n",
       "      <td>12GB</td>\n",
       "      <td>128GB PCIe SSD</td>\n",
       "      <td>Intel Iris Xe Graphics</td>\n",
       "      <td>No OS</td>\n",
       "      <td>4.060656</td>\n",
       "      <td>37019.059051</td>\n",
       "    </tr>\n",
       "    <tr>\n",
       "      <th>2</th>\n",
       "      <td>hp</td>\n",
       "      <td>WorkStation</td>\n",
       "      <td>17.295294</td>\n",
       "      <td>Full HD</td>\n",
       "      <td>Intel Xeon E3-1505M</td>\n",
       "      <td>8GB</td>\n",
       "      <td>1TB HDD</td>\n",
       "      <td>Intel Iris Xe Graphics</td>\n",
       "      <td>Linux</td>\n",
       "      <td>2.901689</td>\n",
       "      <td>33329.360341</td>\n",
       "    </tr>\n",
       "    <tr>\n",
       "      <th>3</th>\n",
       "      <td>MSI</td>\n",
       "      <td>2 in 1 Convertible</td>\n",
       "      <td>11.526203</td>\n",
       "      <td>2K</td>\n",
       "      <td>Intel Core i7</td>\n",
       "      <td>16GB</td>\n",
       "      <td>512GB NVMe SSD</td>\n",
       "      <td>Intel Iris Xe Graphics</td>\n",
       "      <td>Windows 10</td>\n",
       "      <td>2.914843</td>\n",
       "      <td>68631.102486</td>\n",
       "    </tr>\n",
       "    <tr>\n",
       "      <th>4</th>\n",
       "      <td>Microsoft</td>\n",
       "      <td>Gaming</td>\n",
       "      <td>12.649634</td>\n",
       "      <td>Full HD</td>\n",
       "      <td>Intel Core i5</td>\n",
       "      <td>8GB</td>\n",
       "      <td>512GB SSD</td>\n",
       "      <td>AMD Radeon RX 5600M</td>\n",
       "      <td>Windows 10</td>\n",
       "      <td>4.341995</td>\n",
       "      <td>33842.479566</td>\n",
       "    </tr>\n",
       "  </tbody>\n",
       "</table>\n",
       "</div>"
      ],
      "text/plain": [
       "  CompanyName        TypeOfLaptop     Inches  \\\n",
       "0         MSI     Business Laptop  17.040680   \n",
       "1       Chuwi  2 in 1 Convertible  16.542395   \n",
       "2          hp         WorkStation  17.295294   \n",
       "3         MSI  2 in 1 Convertible  11.526203   \n",
       "4   Microsoft              Gaming  12.649634   \n",
       "\n",
       "                     ScreenResolution                   Cpu   Ram  \\\n",
       "0  IPS Panel Retina Display 2560x1600         Intel Core i7  12GB   \n",
       "1                             Full HD         Intel Core i5  12GB   \n",
       "2                             Full HD  Intel Xeon E3-1505M    8GB   \n",
       "3                                  2K         Intel Core i7  16GB   \n",
       "4                             Full HD         Intel Core i5   8GB   \n",
       "\n",
       "           Memory                     Gpu       OpSys    Weight         Price  \n",
       "0       512GB SSD  Intel Iris Xe Graphics       Linux  2.064834  35844.099371  \n",
       "1  128GB PCIe SSD  Intel Iris Xe Graphics       No OS  4.060656  37019.059051  \n",
       "2         1TB HDD  Intel Iris Xe Graphics       Linux  2.901689  33329.360341  \n",
       "3  512GB NVMe SSD  Intel Iris Xe Graphics  Windows 10  2.914843  68631.102486  \n",
       "4       512GB SSD     AMD Radeon RX 5600M  Windows 10  4.341995  33842.479566  "
      ]
     },
     "execution_count": 27,
     "metadata": {},
     "output_type": "execute_result"
    }
   ],
   "source": [
    "df.head()"
   ]
  },
  {
   "cell_type": "code",
   "execution_count": 28,
   "id": "4e5727d3-1100-4081-b170-e315a6f64307",
   "metadata": {},
   "outputs": [
    {
     "ename": "KeyError",
     "evalue": "'HDD'",
     "output_type": "error",
     "traceback": [
      "\u001b[1;31m---------------------------------------------------------------------------\u001b[0m",
      "\u001b[1;31mKeyError\u001b[0m                                  Traceback (most recent call last)",
      "File \u001b[1;32m~\\anaconda3\\Lib\\site-packages\\pandas\\core\\indexes\\base.py:3653\u001b[0m, in \u001b[0;36mIndex.get_loc\u001b[1;34m(self, key)\u001b[0m\n\u001b[0;32m   3652\u001b[0m \u001b[38;5;28;01mtry\u001b[39;00m:\n\u001b[1;32m-> 3653\u001b[0m     \u001b[38;5;28;01mreturn\u001b[39;00m \u001b[38;5;28mself\u001b[39m\u001b[38;5;241m.\u001b[39m_engine\u001b[38;5;241m.\u001b[39mget_loc(casted_key)\n\u001b[0;32m   3654\u001b[0m \u001b[38;5;28;01mexcept\u001b[39;00m \u001b[38;5;167;01mKeyError\u001b[39;00m \u001b[38;5;28;01mas\u001b[39;00m err:\n",
      "File \u001b[1;32m~\\anaconda3\\Lib\\site-packages\\pandas\\_libs\\index.pyx:147\u001b[0m, in \u001b[0;36mpandas._libs.index.IndexEngine.get_loc\u001b[1;34m()\u001b[0m\n",
      "File \u001b[1;32m~\\anaconda3\\Lib\\site-packages\\pandas\\_libs\\index.pyx:176\u001b[0m, in \u001b[0;36mpandas._libs.index.IndexEngine.get_loc\u001b[1;34m()\u001b[0m\n",
      "File \u001b[1;32mpandas\\_libs\\hashtable_class_helper.pxi:7080\u001b[0m, in \u001b[0;36mpandas._libs.hashtable.PyObjectHashTable.get_item\u001b[1;34m()\u001b[0m\n",
      "File \u001b[1;32mpandas\\_libs\\hashtable_class_helper.pxi:7088\u001b[0m, in \u001b[0;36mpandas._libs.hashtable.PyObjectHashTable.get_item\u001b[1;34m()\u001b[0m\n",
      "\u001b[1;31mKeyError\u001b[0m: 'HDD'",
      "\nThe above exception was the direct cause of the following exception:\n",
      "\u001b[1;31mKeyError\u001b[0m                                  Traceback (most recent call last)",
      "Cell \u001b[1;32mIn[28], line 1\u001b[0m\n\u001b[1;32m----> 1\u001b[0m df[\u001b[38;5;124m\"\u001b[39m\u001b[38;5;124mHDD\u001b[39m\u001b[38;5;124m\"\u001b[39m]\u001b[38;5;241m.\u001b[39mvalue_counts()\n",
      "File \u001b[1;32m~\\anaconda3\\Lib\\site-packages\\pandas\\core\\frame.py:3761\u001b[0m, in \u001b[0;36mDataFrame.__getitem__\u001b[1;34m(self, key)\u001b[0m\n\u001b[0;32m   3759\u001b[0m \u001b[38;5;28;01mif\u001b[39;00m \u001b[38;5;28mself\u001b[39m\u001b[38;5;241m.\u001b[39mcolumns\u001b[38;5;241m.\u001b[39mnlevels \u001b[38;5;241m>\u001b[39m \u001b[38;5;241m1\u001b[39m:\n\u001b[0;32m   3760\u001b[0m     \u001b[38;5;28;01mreturn\u001b[39;00m \u001b[38;5;28mself\u001b[39m\u001b[38;5;241m.\u001b[39m_getitem_multilevel(key)\n\u001b[1;32m-> 3761\u001b[0m indexer \u001b[38;5;241m=\u001b[39m \u001b[38;5;28mself\u001b[39m\u001b[38;5;241m.\u001b[39mcolumns\u001b[38;5;241m.\u001b[39mget_loc(key)\n\u001b[0;32m   3762\u001b[0m \u001b[38;5;28;01mif\u001b[39;00m is_integer(indexer):\n\u001b[0;32m   3763\u001b[0m     indexer \u001b[38;5;241m=\u001b[39m [indexer]\n",
      "File \u001b[1;32m~\\anaconda3\\Lib\\site-packages\\pandas\\core\\indexes\\base.py:3655\u001b[0m, in \u001b[0;36mIndex.get_loc\u001b[1;34m(self, key)\u001b[0m\n\u001b[0;32m   3653\u001b[0m     \u001b[38;5;28;01mreturn\u001b[39;00m \u001b[38;5;28mself\u001b[39m\u001b[38;5;241m.\u001b[39m_engine\u001b[38;5;241m.\u001b[39mget_loc(casted_key)\n\u001b[0;32m   3654\u001b[0m \u001b[38;5;28;01mexcept\u001b[39;00m \u001b[38;5;167;01mKeyError\u001b[39;00m \u001b[38;5;28;01mas\u001b[39;00m err:\n\u001b[1;32m-> 3655\u001b[0m     \u001b[38;5;28;01mraise\u001b[39;00m \u001b[38;5;167;01mKeyError\u001b[39;00m(key) \u001b[38;5;28;01mfrom\u001b[39;00m \u001b[38;5;21;01merr\u001b[39;00m\n\u001b[0;32m   3656\u001b[0m \u001b[38;5;28;01mexcept\u001b[39;00m \u001b[38;5;167;01mTypeError\u001b[39;00m:\n\u001b[0;32m   3657\u001b[0m     \u001b[38;5;66;03m# If we have a listlike key, _check_indexing_error will raise\u001b[39;00m\n\u001b[0;32m   3658\u001b[0m     \u001b[38;5;66;03m#  InvalidIndexError. Otherwise we fall through and re-raise\u001b[39;00m\n\u001b[0;32m   3659\u001b[0m     \u001b[38;5;66;03m#  the TypeError.\u001b[39;00m\n\u001b[0;32m   3660\u001b[0m     \u001b[38;5;28mself\u001b[39m\u001b[38;5;241m.\u001b[39m_check_indexing_error(key)\n",
      "\u001b[1;31mKeyError\u001b[0m: 'HDD'"
     ]
    }
   ],
   "source": [
    "df[\"HDD\"].value_counts()"
   ]
  },
  {
   "cell_type": "code",
   "execution_count": 29,
   "id": "5b7719ac-9e47-4e87-8d44-b82b241efb4f",
   "metadata": {},
   "outputs": [
    {
     "ename": "KeyError",
     "evalue": "'SSD'",
     "output_type": "error",
     "traceback": [
      "\u001b[1;31m---------------------------------------------------------------------------\u001b[0m",
      "\u001b[1;31mKeyError\u001b[0m                                  Traceback (most recent call last)",
      "File \u001b[1;32m~\\anaconda3\\Lib\\site-packages\\pandas\\core\\indexes\\base.py:3653\u001b[0m, in \u001b[0;36mIndex.get_loc\u001b[1;34m(self, key)\u001b[0m\n\u001b[0;32m   3652\u001b[0m \u001b[38;5;28;01mtry\u001b[39;00m:\n\u001b[1;32m-> 3653\u001b[0m     \u001b[38;5;28;01mreturn\u001b[39;00m \u001b[38;5;28mself\u001b[39m\u001b[38;5;241m.\u001b[39m_engine\u001b[38;5;241m.\u001b[39mget_loc(casted_key)\n\u001b[0;32m   3654\u001b[0m \u001b[38;5;28;01mexcept\u001b[39;00m \u001b[38;5;167;01mKeyError\u001b[39;00m \u001b[38;5;28;01mas\u001b[39;00m err:\n",
      "File \u001b[1;32m~\\anaconda3\\Lib\\site-packages\\pandas\\_libs\\index.pyx:147\u001b[0m, in \u001b[0;36mpandas._libs.index.IndexEngine.get_loc\u001b[1;34m()\u001b[0m\n",
      "File \u001b[1;32m~\\anaconda3\\Lib\\site-packages\\pandas\\_libs\\index.pyx:176\u001b[0m, in \u001b[0;36mpandas._libs.index.IndexEngine.get_loc\u001b[1;34m()\u001b[0m\n",
      "File \u001b[1;32mpandas\\_libs\\hashtable_class_helper.pxi:7080\u001b[0m, in \u001b[0;36mpandas._libs.hashtable.PyObjectHashTable.get_item\u001b[1;34m()\u001b[0m\n",
      "File \u001b[1;32mpandas\\_libs\\hashtable_class_helper.pxi:7088\u001b[0m, in \u001b[0;36mpandas._libs.hashtable.PyObjectHashTable.get_item\u001b[1;34m()\u001b[0m\n",
      "\u001b[1;31mKeyError\u001b[0m: 'SSD'",
      "\nThe above exception was the direct cause of the following exception:\n",
      "\u001b[1;31mKeyError\u001b[0m                                  Traceback (most recent call last)",
      "Cell \u001b[1;32mIn[29], line 1\u001b[0m\n\u001b[1;32m----> 1\u001b[0m df[\u001b[38;5;124m\"\u001b[39m\u001b[38;5;124mSSD\u001b[39m\u001b[38;5;124m\"\u001b[39m]\u001b[38;5;241m.\u001b[39mvalue_counts()\n",
      "File \u001b[1;32m~\\anaconda3\\Lib\\site-packages\\pandas\\core\\frame.py:3761\u001b[0m, in \u001b[0;36mDataFrame.__getitem__\u001b[1;34m(self, key)\u001b[0m\n\u001b[0;32m   3759\u001b[0m \u001b[38;5;28;01mif\u001b[39;00m \u001b[38;5;28mself\u001b[39m\u001b[38;5;241m.\u001b[39mcolumns\u001b[38;5;241m.\u001b[39mnlevels \u001b[38;5;241m>\u001b[39m \u001b[38;5;241m1\u001b[39m:\n\u001b[0;32m   3760\u001b[0m     \u001b[38;5;28;01mreturn\u001b[39;00m \u001b[38;5;28mself\u001b[39m\u001b[38;5;241m.\u001b[39m_getitem_multilevel(key)\n\u001b[1;32m-> 3761\u001b[0m indexer \u001b[38;5;241m=\u001b[39m \u001b[38;5;28mself\u001b[39m\u001b[38;5;241m.\u001b[39mcolumns\u001b[38;5;241m.\u001b[39mget_loc(key)\n\u001b[0;32m   3762\u001b[0m \u001b[38;5;28;01mif\u001b[39;00m is_integer(indexer):\n\u001b[0;32m   3763\u001b[0m     indexer \u001b[38;5;241m=\u001b[39m [indexer]\n",
      "File \u001b[1;32m~\\anaconda3\\Lib\\site-packages\\pandas\\core\\indexes\\base.py:3655\u001b[0m, in \u001b[0;36mIndex.get_loc\u001b[1;34m(self, key)\u001b[0m\n\u001b[0;32m   3653\u001b[0m     \u001b[38;5;28;01mreturn\u001b[39;00m \u001b[38;5;28mself\u001b[39m\u001b[38;5;241m.\u001b[39m_engine\u001b[38;5;241m.\u001b[39mget_loc(casted_key)\n\u001b[0;32m   3654\u001b[0m \u001b[38;5;28;01mexcept\u001b[39;00m \u001b[38;5;167;01mKeyError\u001b[39;00m \u001b[38;5;28;01mas\u001b[39;00m err:\n\u001b[1;32m-> 3655\u001b[0m     \u001b[38;5;28;01mraise\u001b[39;00m \u001b[38;5;167;01mKeyError\u001b[39;00m(key) \u001b[38;5;28;01mfrom\u001b[39;00m \u001b[38;5;21;01merr\u001b[39;00m\n\u001b[0;32m   3656\u001b[0m \u001b[38;5;28;01mexcept\u001b[39;00m \u001b[38;5;167;01mTypeError\u001b[39;00m:\n\u001b[0;32m   3657\u001b[0m     \u001b[38;5;66;03m# If we have a listlike key, _check_indexing_error will raise\u001b[39;00m\n\u001b[0;32m   3658\u001b[0m     \u001b[38;5;66;03m#  InvalidIndexError. Otherwise we fall through and re-raise\u001b[39;00m\n\u001b[0;32m   3659\u001b[0m     \u001b[38;5;66;03m#  the TypeError.\u001b[39;00m\n\u001b[0;32m   3660\u001b[0m     \u001b[38;5;28mself\u001b[39m\u001b[38;5;241m.\u001b[39m_check_indexing_error(key)\n",
      "\u001b[1;31mKeyError\u001b[0m: 'SSD'"
     ]
    }
   ],
   "source": [
    "df[\"SSD\"].value_counts()"
   ]
  },
  {
   "cell_type": "code",
   "execution_count": 30,
   "id": "9f524912-e37e-469c-a47e-79f10272295b",
   "metadata": {},
   "outputs": [
    {
     "ename": "KeyError",
     "evalue": "'SSD'",
     "output_type": "error",
     "traceback": [
      "\u001b[1;31m---------------------------------------------------------------------------\u001b[0m",
      "\u001b[1;31mKeyError\u001b[0m                                  Traceback (most recent call last)",
      "File \u001b[1;32m~\\anaconda3\\Lib\\site-packages\\pandas\\core\\indexes\\base.py:3653\u001b[0m, in \u001b[0;36mIndex.get_loc\u001b[1;34m(self, key)\u001b[0m\n\u001b[0;32m   3652\u001b[0m \u001b[38;5;28;01mtry\u001b[39;00m:\n\u001b[1;32m-> 3653\u001b[0m     \u001b[38;5;28;01mreturn\u001b[39;00m \u001b[38;5;28mself\u001b[39m\u001b[38;5;241m.\u001b[39m_engine\u001b[38;5;241m.\u001b[39mget_loc(casted_key)\n\u001b[0;32m   3654\u001b[0m \u001b[38;5;28;01mexcept\u001b[39;00m \u001b[38;5;167;01mKeyError\u001b[39;00m \u001b[38;5;28;01mas\u001b[39;00m err:\n",
      "File \u001b[1;32m~\\anaconda3\\Lib\\site-packages\\pandas\\_libs\\index.pyx:147\u001b[0m, in \u001b[0;36mpandas._libs.index.IndexEngine.get_loc\u001b[1;34m()\u001b[0m\n",
      "File \u001b[1;32m~\\anaconda3\\Lib\\site-packages\\pandas\\_libs\\index.pyx:176\u001b[0m, in \u001b[0;36mpandas._libs.index.IndexEngine.get_loc\u001b[1;34m()\u001b[0m\n",
      "File \u001b[1;32mpandas\\_libs\\hashtable_class_helper.pxi:7080\u001b[0m, in \u001b[0;36mpandas._libs.hashtable.PyObjectHashTable.get_item\u001b[1;34m()\u001b[0m\n",
      "File \u001b[1;32mpandas\\_libs\\hashtable_class_helper.pxi:7088\u001b[0m, in \u001b[0;36mpandas._libs.hashtable.PyObjectHashTable.get_item\u001b[1;34m()\u001b[0m\n",
      "\u001b[1;31mKeyError\u001b[0m: 'SSD'",
      "\nThe above exception was the direct cause of the following exception:\n",
      "\u001b[1;31mKeyError\u001b[0m                                  Traceback (most recent call last)",
      "Cell \u001b[1;32mIn[30], line 2\u001b[0m\n\u001b[0;32m      1\u001b[0m dummy \u001b[38;5;241m=\u001b[39m []\n\u001b[1;32m----> 2\u001b[0m \u001b[38;5;28;01mfor\u001b[39;00m i \u001b[38;5;129;01min\u001b[39;00m df[\u001b[38;5;124m\"\u001b[39m\u001b[38;5;124mSSD\u001b[39m\u001b[38;5;124m\"\u001b[39m]:\n\u001b[0;32m      3\u001b[0m     i \u001b[38;5;241m=\u001b[39m i\u001b[38;5;241m.\u001b[39mstrip()\n\u001b[0;32m      4\u001b[0m     \u001b[38;5;28;01mif\u001b[39;00m i[\u001b[38;5;241m-\u001b[39m\u001b[38;5;241m2\u001b[39m:]\u001b[38;5;241m==\u001b[39m\u001b[38;5;124m\"\u001b[39m\u001b[38;5;124mTB\u001b[39m\u001b[38;5;124m\"\u001b[39m:\n",
      "File \u001b[1;32m~\\anaconda3\\Lib\\site-packages\\pandas\\core\\frame.py:3761\u001b[0m, in \u001b[0;36mDataFrame.__getitem__\u001b[1;34m(self, key)\u001b[0m\n\u001b[0;32m   3759\u001b[0m \u001b[38;5;28;01mif\u001b[39;00m \u001b[38;5;28mself\u001b[39m\u001b[38;5;241m.\u001b[39mcolumns\u001b[38;5;241m.\u001b[39mnlevels \u001b[38;5;241m>\u001b[39m \u001b[38;5;241m1\u001b[39m:\n\u001b[0;32m   3760\u001b[0m     \u001b[38;5;28;01mreturn\u001b[39;00m \u001b[38;5;28mself\u001b[39m\u001b[38;5;241m.\u001b[39m_getitem_multilevel(key)\n\u001b[1;32m-> 3761\u001b[0m indexer \u001b[38;5;241m=\u001b[39m \u001b[38;5;28mself\u001b[39m\u001b[38;5;241m.\u001b[39mcolumns\u001b[38;5;241m.\u001b[39mget_loc(key)\n\u001b[0;32m   3762\u001b[0m \u001b[38;5;28;01mif\u001b[39;00m is_integer(indexer):\n\u001b[0;32m   3763\u001b[0m     indexer \u001b[38;5;241m=\u001b[39m [indexer]\n",
      "File \u001b[1;32m~\\anaconda3\\Lib\\site-packages\\pandas\\core\\indexes\\base.py:3655\u001b[0m, in \u001b[0;36mIndex.get_loc\u001b[1;34m(self, key)\u001b[0m\n\u001b[0;32m   3653\u001b[0m     \u001b[38;5;28;01mreturn\u001b[39;00m \u001b[38;5;28mself\u001b[39m\u001b[38;5;241m.\u001b[39m_engine\u001b[38;5;241m.\u001b[39mget_loc(casted_key)\n\u001b[0;32m   3654\u001b[0m \u001b[38;5;28;01mexcept\u001b[39;00m \u001b[38;5;167;01mKeyError\u001b[39;00m \u001b[38;5;28;01mas\u001b[39;00m err:\n\u001b[1;32m-> 3655\u001b[0m     \u001b[38;5;28;01mraise\u001b[39;00m \u001b[38;5;167;01mKeyError\u001b[39;00m(key) \u001b[38;5;28;01mfrom\u001b[39;00m \u001b[38;5;21;01merr\u001b[39;00m\n\u001b[0;32m   3656\u001b[0m \u001b[38;5;28;01mexcept\u001b[39;00m \u001b[38;5;167;01mTypeError\u001b[39;00m:\n\u001b[0;32m   3657\u001b[0m     \u001b[38;5;66;03m# If we have a listlike key, _check_indexing_error will raise\u001b[39;00m\n\u001b[0;32m   3658\u001b[0m     \u001b[38;5;66;03m#  InvalidIndexError. Otherwise we fall through and re-raise\u001b[39;00m\n\u001b[0;32m   3659\u001b[0m     \u001b[38;5;66;03m#  the TypeError.\u001b[39;00m\n\u001b[0;32m   3660\u001b[0m     \u001b[38;5;28mself\u001b[39m\u001b[38;5;241m.\u001b[39m_check_indexing_error(key)\n",
      "\u001b[1;31mKeyError\u001b[0m: 'SSD'"
     ]
    }
   ],
   "source": [
    "dummy = []\n",
    "for i in df[\"SSD\"]:\n",
    "    i = i.strip()\n",
    "    if i[-2:]==\"TB\":\n",
    "        dummy.append(float(i.replace(\"TB\".strip(), \"\"))*1024)\n",
    "    elif i[-2:]==\"GB\":\n",
    "        dummy.append(float(i.replace(\"GB\".strip(),\"\")))\n",
    "    else:\n",
    "        dummy.append(float(i))"
   ]
  },
  {
   "cell_type": "code",
   "execution_count": 31,
   "id": "15f5438c-5d50-4e39-9ea9-74147dd836b6",
   "metadata": {},
   "outputs": [
    {
     "data": {
      "text/plain": [
       "0"
      ]
     },
     "execution_count": 31,
     "metadata": {},
     "output_type": "execute_result"
    }
   ],
   "source": [
    "len(dummy)"
   ]
  },
  {
   "cell_type": "code",
   "execution_count": 32,
   "id": "db217dc9-4bed-4412-89cd-e4bbcbd4a132",
   "metadata": {},
   "outputs": [
    {
     "ename": "ValueError",
     "evalue": "Length of values (0) does not match length of index (1000)",
     "output_type": "error",
     "traceback": [
      "\u001b[1;31m---------------------------------------------------------------------------\u001b[0m",
      "\u001b[1;31mValueError\u001b[0m                                Traceback (most recent call last)",
      "Cell \u001b[1;32mIn[32], line 1\u001b[0m\n\u001b[1;32m----> 1\u001b[0m df[\u001b[38;5;124m\"\u001b[39m\u001b[38;5;124mSSD\u001b[39m\u001b[38;5;124m\"\u001b[39m] \u001b[38;5;241m=\u001b[39m dummy\n",
      "File \u001b[1;32m~\\anaconda3\\Lib\\site-packages\\pandas\\core\\frame.py:3950\u001b[0m, in \u001b[0;36mDataFrame.__setitem__\u001b[1;34m(self, key, value)\u001b[0m\n\u001b[0;32m   3947\u001b[0m     \u001b[38;5;28mself\u001b[39m\u001b[38;5;241m.\u001b[39m_setitem_array([key], value)\n\u001b[0;32m   3948\u001b[0m \u001b[38;5;28;01melse\u001b[39;00m:\n\u001b[0;32m   3949\u001b[0m     \u001b[38;5;66;03m# set column\u001b[39;00m\n\u001b[1;32m-> 3950\u001b[0m     \u001b[38;5;28mself\u001b[39m\u001b[38;5;241m.\u001b[39m_set_item(key, value)\n",
      "File \u001b[1;32m~\\anaconda3\\Lib\\site-packages\\pandas\\core\\frame.py:4143\u001b[0m, in \u001b[0;36mDataFrame._set_item\u001b[1;34m(self, key, value)\u001b[0m\n\u001b[0;32m   4133\u001b[0m \u001b[38;5;28;01mdef\u001b[39;00m \u001b[38;5;21m_set_item\u001b[39m(\u001b[38;5;28mself\u001b[39m, key, value) \u001b[38;5;241m-\u001b[39m\u001b[38;5;241m>\u001b[39m \u001b[38;5;28;01mNone\u001b[39;00m:\n\u001b[0;32m   4134\u001b[0m \u001b[38;5;250m    \u001b[39m\u001b[38;5;124;03m\"\"\"\u001b[39;00m\n\u001b[0;32m   4135\u001b[0m \u001b[38;5;124;03m    Add series to DataFrame in specified column.\u001b[39;00m\n\u001b[0;32m   4136\u001b[0m \n\u001b[1;32m   (...)\u001b[0m\n\u001b[0;32m   4141\u001b[0m \u001b[38;5;124;03m    ensure homogeneity.\u001b[39;00m\n\u001b[0;32m   4142\u001b[0m \u001b[38;5;124;03m    \"\"\"\u001b[39;00m\n\u001b[1;32m-> 4143\u001b[0m     value \u001b[38;5;241m=\u001b[39m \u001b[38;5;28mself\u001b[39m\u001b[38;5;241m.\u001b[39m_sanitize_column(value)\n\u001b[0;32m   4145\u001b[0m     \u001b[38;5;28;01mif\u001b[39;00m (\n\u001b[0;32m   4146\u001b[0m         key \u001b[38;5;129;01min\u001b[39;00m \u001b[38;5;28mself\u001b[39m\u001b[38;5;241m.\u001b[39mcolumns\n\u001b[0;32m   4147\u001b[0m         \u001b[38;5;129;01mand\u001b[39;00m value\u001b[38;5;241m.\u001b[39mndim \u001b[38;5;241m==\u001b[39m \u001b[38;5;241m1\u001b[39m\n\u001b[0;32m   4148\u001b[0m         \u001b[38;5;129;01mand\u001b[39;00m \u001b[38;5;129;01mnot\u001b[39;00m is_extension_array_dtype(value)\n\u001b[0;32m   4149\u001b[0m     ):\n\u001b[0;32m   4150\u001b[0m         \u001b[38;5;66;03m# broadcast across multiple columns if necessary\u001b[39;00m\n\u001b[0;32m   4151\u001b[0m         \u001b[38;5;28;01mif\u001b[39;00m \u001b[38;5;129;01mnot\u001b[39;00m \u001b[38;5;28mself\u001b[39m\u001b[38;5;241m.\u001b[39mcolumns\u001b[38;5;241m.\u001b[39mis_unique \u001b[38;5;129;01mor\u001b[39;00m \u001b[38;5;28misinstance\u001b[39m(\u001b[38;5;28mself\u001b[39m\u001b[38;5;241m.\u001b[39mcolumns, MultiIndex):\n",
      "File \u001b[1;32m~\\anaconda3\\Lib\\site-packages\\pandas\\core\\frame.py:4870\u001b[0m, in \u001b[0;36mDataFrame._sanitize_column\u001b[1;34m(self, value)\u001b[0m\n\u001b[0;32m   4867\u001b[0m     \u001b[38;5;28;01mreturn\u001b[39;00m _reindex_for_setitem(Series(value), \u001b[38;5;28mself\u001b[39m\u001b[38;5;241m.\u001b[39mindex)\n\u001b[0;32m   4869\u001b[0m \u001b[38;5;28;01mif\u001b[39;00m is_list_like(value):\n\u001b[1;32m-> 4870\u001b[0m     com\u001b[38;5;241m.\u001b[39mrequire_length_match(value, \u001b[38;5;28mself\u001b[39m\u001b[38;5;241m.\u001b[39mindex)\n\u001b[0;32m   4871\u001b[0m \u001b[38;5;28;01mreturn\u001b[39;00m sanitize_array(value, \u001b[38;5;28mself\u001b[39m\u001b[38;5;241m.\u001b[39mindex, copy\u001b[38;5;241m=\u001b[39m\u001b[38;5;28;01mTrue\u001b[39;00m, allow_2d\u001b[38;5;241m=\u001b[39m\u001b[38;5;28;01mTrue\u001b[39;00m)\n",
      "File \u001b[1;32m~\\anaconda3\\Lib\\site-packages\\pandas\\core\\common.py:576\u001b[0m, in \u001b[0;36mrequire_length_match\u001b[1;34m(data, index)\u001b[0m\n\u001b[0;32m    572\u001b[0m \u001b[38;5;250m\u001b[39m\u001b[38;5;124;03m\"\"\"\u001b[39;00m\n\u001b[0;32m    573\u001b[0m \u001b[38;5;124;03mCheck the length of data matches the length of the index.\u001b[39;00m\n\u001b[0;32m    574\u001b[0m \u001b[38;5;124;03m\"\"\"\u001b[39;00m\n\u001b[0;32m    575\u001b[0m \u001b[38;5;28;01mif\u001b[39;00m \u001b[38;5;28mlen\u001b[39m(data) \u001b[38;5;241m!=\u001b[39m \u001b[38;5;28mlen\u001b[39m(index):\n\u001b[1;32m--> 576\u001b[0m     \u001b[38;5;28;01mraise\u001b[39;00m \u001b[38;5;167;01mValueError\u001b[39;00m(\n\u001b[0;32m    577\u001b[0m         \u001b[38;5;124m\"\u001b[39m\u001b[38;5;124mLength of values \u001b[39m\u001b[38;5;124m\"\u001b[39m\n\u001b[0;32m    578\u001b[0m         \u001b[38;5;124mf\u001b[39m\u001b[38;5;124m\"\u001b[39m\u001b[38;5;124m(\u001b[39m\u001b[38;5;132;01m{\u001b[39;00m\u001b[38;5;28mlen\u001b[39m(data)\u001b[38;5;132;01m}\u001b[39;00m\u001b[38;5;124m) \u001b[39m\u001b[38;5;124m\"\u001b[39m\n\u001b[0;32m    579\u001b[0m         \u001b[38;5;124m\"\u001b[39m\u001b[38;5;124mdoes not match length of index \u001b[39m\u001b[38;5;124m\"\u001b[39m\n\u001b[0;32m    580\u001b[0m         \u001b[38;5;124mf\u001b[39m\u001b[38;5;124m\"\u001b[39m\u001b[38;5;124m(\u001b[39m\u001b[38;5;132;01m{\u001b[39;00m\u001b[38;5;28mlen\u001b[39m(index)\u001b[38;5;132;01m}\u001b[39;00m\u001b[38;5;124m)\u001b[39m\u001b[38;5;124m\"\u001b[39m\n\u001b[0;32m    581\u001b[0m     )\n",
      "\u001b[1;31mValueError\u001b[0m: Length of values (0) does not match length of index (1000)"
     ]
    }
   ],
   "source": [
    "df[\"SSD\"] = dummy"
   ]
  },
  {
   "cell_type": "code",
   "execution_count": 33,
   "id": "0f6c4300-32e5-437a-aa6d-e249bbb717a0",
   "metadata": {},
   "outputs": [
    {
     "ename": "KeyError",
     "evalue": "'SSD'",
     "output_type": "error",
     "traceback": [
      "\u001b[1;31m---------------------------------------------------------------------------\u001b[0m",
      "\u001b[1;31mKeyError\u001b[0m                                  Traceback (most recent call last)",
      "File \u001b[1;32m~\\anaconda3\\Lib\\site-packages\\pandas\\core\\indexes\\base.py:3653\u001b[0m, in \u001b[0;36mIndex.get_loc\u001b[1;34m(self, key)\u001b[0m\n\u001b[0;32m   3652\u001b[0m \u001b[38;5;28;01mtry\u001b[39;00m:\n\u001b[1;32m-> 3653\u001b[0m     \u001b[38;5;28;01mreturn\u001b[39;00m \u001b[38;5;28mself\u001b[39m\u001b[38;5;241m.\u001b[39m_engine\u001b[38;5;241m.\u001b[39mget_loc(casted_key)\n\u001b[0;32m   3654\u001b[0m \u001b[38;5;28;01mexcept\u001b[39;00m \u001b[38;5;167;01mKeyError\u001b[39;00m \u001b[38;5;28;01mas\u001b[39;00m err:\n",
      "File \u001b[1;32m~\\anaconda3\\Lib\\site-packages\\pandas\\_libs\\index.pyx:147\u001b[0m, in \u001b[0;36mpandas._libs.index.IndexEngine.get_loc\u001b[1;34m()\u001b[0m\n",
      "File \u001b[1;32m~\\anaconda3\\Lib\\site-packages\\pandas\\_libs\\index.pyx:176\u001b[0m, in \u001b[0;36mpandas._libs.index.IndexEngine.get_loc\u001b[1;34m()\u001b[0m\n",
      "File \u001b[1;32mpandas\\_libs\\hashtable_class_helper.pxi:7080\u001b[0m, in \u001b[0;36mpandas._libs.hashtable.PyObjectHashTable.get_item\u001b[1;34m()\u001b[0m\n",
      "File \u001b[1;32mpandas\\_libs\\hashtable_class_helper.pxi:7088\u001b[0m, in \u001b[0;36mpandas._libs.hashtable.PyObjectHashTable.get_item\u001b[1;34m()\u001b[0m\n",
      "\u001b[1;31mKeyError\u001b[0m: 'SSD'",
      "\nThe above exception was the direct cause of the following exception:\n",
      "\u001b[1;31mKeyError\u001b[0m                                  Traceback (most recent call last)",
      "Cell \u001b[1;32mIn[33], line 1\u001b[0m\n\u001b[1;32m----> 1\u001b[0m df[\u001b[38;5;124m\"\u001b[39m\u001b[38;5;124mSSD\u001b[39m\u001b[38;5;124m\"\u001b[39m] \u001b[38;5;241m=\u001b[39m df[\u001b[38;5;124m\"\u001b[39m\u001b[38;5;124mSSD\u001b[39m\u001b[38;5;124m\"\u001b[39m]\u001b[38;5;241m.\u001b[39mastype(\u001b[38;5;124m\"\u001b[39m\u001b[38;5;124mint32\u001b[39m\u001b[38;5;124m\"\u001b[39m)\n",
      "File \u001b[1;32m~\\anaconda3\\Lib\\site-packages\\pandas\\core\\frame.py:3761\u001b[0m, in \u001b[0;36mDataFrame.__getitem__\u001b[1;34m(self, key)\u001b[0m\n\u001b[0;32m   3759\u001b[0m \u001b[38;5;28;01mif\u001b[39;00m \u001b[38;5;28mself\u001b[39m\u001b[38;5;241m.\u001b[39mcolumns\u001b[38;5;241m.\u001b[39mnlevels \u001b[38;5;241m>\u001b[39m \u001b[38;5;241m1\u001b[39m:\n\u001b[0;32m   3760\u001b[0m     \u001b[38;5;28;01mreturn\u001b[39;00m \u001b[38;5;28mself\u001b[39m\u001b[38;5;241m.\u001b[39m_getitem_multilevel(key)\n\u001b[1;32m-> 3761\u001b[0m indexer \u001b[38;5;241m=\u001b[39m \u001b[38;5;28mself\u001b[39m\u001b[38;5;241m.\u001b[39mcolumns\u001b[38;5;241m.\u001b[39mget_loc(key)\n\u001b[0;32m   3762\u001b[0m \u001b[38;5;28;01mif\u001b[39;00m is_integer(indexer):\n\u001b[0;32m   3763\u001b[0m     indexer \u001b[38;5;241m=\u001b[39m [indexer]\n",
      "File \u001b[1;32m~\\anaconda3\\Lib\\site-packages\\pandas\\core\\indexes\\base.py:3655\u001b[0m, in \u001b[0;36mIndex.get_loc\u001b[1;34m(self, key)\u001b[0m\n\u001b[0;32m   3653\u001b[0m     \u001b[38;5;28;01mreturn\u001b[39;00m \u001b[38;5;28mself\u001b[39m\u001b[38;5;241m.\u001b[39m_engine\u001b[38;5;241m.\u001b[39mget_loc(casted_key)\n\u001b[0;32m   3654\u001b[0m \u001b[38;5;28;01mexcept\u001b[39;00m \u001b[38;5;167;01mKeyError\u001b[39;00m \u001b[38;5;28;01mas\u001b[39;00m err:\n\u001b[1;32m-> 3655\u001b[0m     \u001b[38;5;28;01mraise\u001b[39;00m \u001b[38;5;167;01mKeyError\u001b[39;00m(key) \u001b[38;5;28;01mfrom\u001b[39;00m \u001b[38;5;21;01merr\u001b[39;00m\n\u001b[0;32m   3656\u001b[0m \u001b[38;5;28;01mexcept\u001b[39;00m \u001b[38;5;167;01mTypeError\u001b[39;00m:\n\u001b[0;32m   3657\u001b[0m     \u001b[38;5;66;03m# If we have a listlike key, _check_indexing_error will raise\u001b[39;00m\n\u001b[0;32m   3658\u001b[0m     \u001b[38;5;66;03m#  InvalidIndexError. Otherwise we fall through and re-raise\u001b[39;00m\n\u001b[0;32m   3659\u001b[0m     \u001b[38;5;66;03m#  the TypeError.\u001b[39;00m\n\u001b[0;32m   3660\u001b[0m     \u001b[38;5;28mself\u001b[39m\u001b[38;5;241m.\u001b[39m_check_indexing_error(key)\n",
      "\u001b[1;31mKeyError\u001b[0m: 'SSD'"
     ]
    }
   ],
   "source": [
    "df[\"SSD\"] = df[\"SSD\"].astype(\"int32\")"
   ]
  },
  {
   "cell_type": "code",
   "execution_count": null,
   "id": "f1ba9e4b-89ec-4445-9e66-d6785f8f3726",
   "metadata": {
    "scrolled": true
   },
   "outputs": [],
   "source": [
    "df.head()"
   ]
  },
  {
   "cell_type": "code",
   "execution_count": null,
   "id": "3d9f4b87-bce8-4c89-b998-528a51928d13",
   "metadata": {},
   "outputs": [],
   "source": [
    "hdd = [i[0] for i in df[\"HDD\"].str.strip()]"
   ]
  },
  {
   "cell_type": "code",
   "execution_count": null,
   "id": "cddcac40-56d8-4ac5-822e-f2d8eaadda40",
   "metadata": {},
   "outputs": [],
   "source": [
    "df[\"HDD\"] = hdd"
   ]
  },
  {
   "cell_type": "code",
   "execution_count": null,
   "id": "1894f7d2-d60d-4831-8f1d-43d0ee89226d",
   "metadata": {},
   "outputs": [],
   "source": [
    "df[\"HDD\"] = df[\"HDD\"].astype(\"int32\")"
   ]
  },
  {
   "cell_type": "code",
   "execution_count": null,
   "id": "f0c4655d-a0c1-4432-bd55-9fe3c71a549a",
   "metadata": {},
   "outputs": [],
   "source": [
    "df.head()"
   ]
  },
  {
   "cell_type": "code",
   "execution_count": null,
   "id": "d178043c-82d7-429d-82dc-7a16b2d20fc1",
   "metadata": {},
   "outputs": [],
   "source": [
    "df[\"Gpu\"].value_counts()"
   ]
  },
  {
   "cell_type": "code",
   "execution_count": null,
   "id": "3a7c8adc-ba25-4c4d-85d4-379ac7cd327e",
   "metadata": {},
   "outputs": [],
   "source": [
    "df[\"OpSys\"].value_counts()"
   ]
  },
  {
   "cell_type": "code",
   "execution_count": null,
   "id": "9eae841f-2dd7-4cd1-97a2-cac595d77e45",
   "metadata": {},
   "outputs": [],
   "source": [
    "df[\"Weight\"].astype(\"int32\").value_counts()"
   ]
  },
  {
   "cell_type": "code",
   "execution_count": null,
   "id": "e7d8c6b9-9cd8-46e6-ab7d-b0cff3c3dd07",
   "metadata": {},
   "outputs": [],
   "source": [
    "df[\"Weight\"] = df[\"Weight\"].astype(\"int32\")"
   ]
  },
  {
   "cell_type": "code",
   "execution_count": null,
   "id": "06255321-abb3-4846-9031-0d01304269d9",
   "metadata": {},
   "outputs": [],
   "source": [
    "df[\"OpSys\"] = df[\"OpSys\"].replace(\"No OS\", \"DOS\")"
   ]
  },
  {
   "cell_type": "code",
   "execution_count": null,
   "id": "4db1e4a6-2f82-407d-bcd4-98fcc93a7af2",
   "metadata": {},
   "outputs": [],
   "source": [
    "gpu = list(map(lambda x: \"NVIDIA\" if x[0]==\"N\" else (\"AMD\" if x[0]==\"A\" else \"INTEL\"), df[\"Gpu\"]))"
   ]
  },
  {
   "cell_type": "code",
   "execution_count": null,
   "id": "26cb86e1-1886-420c-8487-3e191468e341",
   "metadata": {},
   "outputs": [],
   "source": [
    "df[\"Gpu\"] = gpu"
   ]
  },
  {
   "cell_type": "code",
   "execution_count": null,
   "id": "1fd514ad-9d58-4fb5-80f4-3ccf7c8d3789",
   "metadata": {},
   "outputs": [],
   "source": [
    "df.head()"
   ]
  },
  {
   "cell_type": "code",
   "execution_count": null,
   "id": "eb382b3b-07c3-4e10-96eb-9df4b2596f69",
   "metadata": {},
   "outputs": [],
   "source": [
    "df[\"Inches\"] = df[\"Inches\"].astype(\"int32\")"
   ]
  },
  {
   "cell_type": "code",
   "execution_count": null,
   "id": "003ff94a-a2d8-4b60-96c7-05538ace5ff3",
   "metadata": {},
   "outputs": [],
   "source": [
    "df.head()"
   ]
  },
  {
   "cell_type": "code",
   "execution_count": null,
   "id": "788aa056-503d-46f4-a89c-54761dbe4412",
   "metadata": {},
   "outputs": [],
   "source": [
    "df[\"TypeOfLaptop\"] = df[\"TypeOfLaptop\"].replace(\"2 in 1 Convertible\", \"Convertible\")\n",
    "df[\"TypeOfLaptop\"] = df[\"TypeOfLaptop\"].replace(\"Business Laptop\", \"Business\")"
   ]
  },
  {
   "cell_type": "code",
   "execution_count": null,
   "id": "693fc953-0eaa-4376-8262-c931d2886dcb",
   "metadata": {},
   "outputs": [],
   "source": [
    "df.head()"
   ]
  },
  {
   "cell_type": "code",
   "execution_count": null,
   "id": "21bfcf7b-1551-41db-bb5e-5a3c696bc8f7",
   "metadata": {},
   "outputs": [],
   "source": [
    "ram = [i[:-2] for i in df[\"Ram\"]]"
   ]
  },
  {
   "cell_type": "code",
   "execution_count": null,
   "id": "045feecb-bcc6-4341-9157-7002861b8788",
   "metadata": {},
   "outputs": [],
   "source": [
    "df[\"Ram\"] = ram"
   ]
  },
  {
   "cell_type": "code",
   "execution_count": null,
   "id": "961ebd97-e5a3-4e5a-9c1b-013a2a641bea",
   "metadata": {},
   "outputs": [],
   "source": [
    "df[\"Ram\"] = df[\"Ram\"].astype(\"int32\")"
   ]
  },
  {
   "cell_type": "code",
   "execution_count": null,
   "id": "8fdb8b89-52bb-461f-bf91-f8cb0f6cede4",
   "metadata": {},
   "outputs": [],
   "source": [
    "df.head()"
   ]
  },
  {
   "cell_type": "code",
   "execution_count": null,
   "id": "8538e8ea-a9fd-493f-a08b-8a97e549ddcf",
   "metadata": {},
   "outputs": [],
   "source": [
    "df[\"ScreenResolution\"].value_counts()"
   ]
  },
  {
   "cell_type": "code",
   "execution_count": null,
   "id": "6482587f",
   "metadata": {},
   "outputs": [],
   "source": [
    "\n"
   ]
  },
  {
   "cell_type": "code",
   "execution_count": null,
   "id": "aff50ac8",
   "metadata": {},
   "outputs": [],
   "source": []
  }
 ],
 "metadata": {
  "kernelspec": {
   "display_name": "Python 3 (ipykernel)",
   "language": "python",
   "name": "python3"
  },
  "language_info": {
   "codemirror_mode": {
    "name": "ipython",
    "version": 3
   },
   "file_extension": ".py",
   "mimetype": "text/x-python",
   "name": "python",
   "nbconvert_exporter": "python",
   "pygments_lexer": "ipython3",
   "version": "3.11.7"
  }
 },
 "nbformat": 4,
 "nbformat_minor": 5
}
