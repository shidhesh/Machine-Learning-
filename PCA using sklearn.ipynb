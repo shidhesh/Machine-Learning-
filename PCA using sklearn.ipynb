{
 "cells": [
  {
   "cell_type": "code",
   "execution_count": 1,
   "id": "97e071b3-90bd-4f15-9251-93ccdb0dfe39",
   "metadata": {},
   "outputs": [],
   "source": [
    "from sklearn.decomposition import PCA"
   ]
  },
  {
   "cell_type": "code",
   "execution_count": 2,
   "id": "20d67d5b-c53e-4476-b1e0-38bd9f1fbda1",
   "metadata": {},
   "outputs": [],
   "source": [
    "import pandas as pd\n",
    "import numpy as np\n",
    "import matplotlib.pyplot as plt\n",
    "import warnings\n",
    "warnings.filterwarnings(\"ignore\")"
   ]
  },
  {
   "cell_type": "code",
   "execution_count": 3,
   "id": "17edf5f1-5904-461f-80bf-1ab4db5a37ef",
   "metadata": {},
   "outputs": [],
   "source": [
    "data = pd.read_csv(\"heart.csv\")"
   ]
  },
  {
   "cell_type": "code",
   "execution_count": 4,
   "id": "aedcdf79-3dff-48f2-94b7-3f8b1b46043e",
   "metadata": {},
   "outputs": [],
   "source": [
    "df = data.copy()"
   ]
  },
  {
   "cell_type": "code",
   "execution_count": 5,
   "id": "12386bf7-c7c8-4a0b-bf88-572addb781b8",
   "metadata": {},
   "outputs": [
    {
     "data": {
      "text/html": [
       "<div>\n",
       "<style scoped>\n",
       "    .dataframe tbody tr th:only-of-type {\n",
       "        vertical-align: middle;\n",
       "    }\n",
       "\n",
       "    .dataframe tbody tr th {\n",
       "        vertical-align: top;\n",
       "    }\n",
       "\n",
       "    .dataframe thead th {\n",
       "        text-align: right;\n",
       "    }\n",
       "</style>\n",
       "<table border=\"1\" class=\"dataframe\">\n",
       "  <thead>\n",
       "    <tr style=\"text-align: right;\">\n",
       "      <th></th>\n",
       "      <th>age</th>\n",
       "      <th>sex</th>\n",
       "      <th>cp</th>\n",
       "      <th>trtbps</th>\n",
       "      <th>chol</th>\n",
       "      <th>fbs</th>\n",
       "      <th>restecg</th>\n",
       "      <th>thalachh</th>\n",
       "      <th>exng</th>\n",
       "      <th>oldpeak</th>\n",
       "      <th>slp</th>\n",
       "      <th>caa</th>\n",
       "      <th>thall</th>\n",
       "      <th>output</th>\n",
       "    </tr>\n",
       "  </thead>\n",
       "  <tbody>\n",
       "    <tr>\n",
       "      <th>0</th>\n",
       "      <td>63</td>\n",
       "      <td>1</td>\n",
       "      <td>3</td>\n",
       "      <td>145</td>\n",
       "      <td>233</td>\n",
       "      <td>1</td>\n",
       "      <td>0</td>\n",
       "      <td>150</td>\n",
       "      <td>0</td>\n",
       "      <td>2.3</td>\n",
       "      <td>0</td>\n",
       "      <td>0</td>\n",
       "      <td>1</td>\n",
       "      <td>1</td>\n",
       "    </tr>\n",
       "    <tr>\n",
       "      <th>1</th>\n",
       "      <td>37</td>\n",
       "      <td>1</td>\n",
       "      <td>2</td>\n",
       "      <td>130</td>\n",
       "      <td>250</td>\n",
       "      <td>0</td>\n",
       "      <td>1</td>\n",
       "      <td>187</td>\n",
       "      <td>0</td>\n",
       "      <td>3.5</td>\n",
       "      <td>0</td>\n",
       "      <td>0</td>\n",
       "      <td>2</td>\n",
       "      <td>1</td>\n",
       "    </tr>\n",
       "    <tr>\n",
       "      <th>2</th>\n",
       "      <td>41</td>\n",
       "      <td>0</td>\n",
       "      <td>1</td>\n",
       "      <td>130</td>\n",
       "      <td>204</td>\n",
       "      <td>0</td>\n",
       "      <td>0</td>\n",
       "      <td>172</td>\n",
       "      <td>0</td>\n",
       "      <td>1.4</td>\n",
       "      <td>2</td>\n",
       "      <td>0</td>\n",
       "      <td>2</td>\n",
       "      <td>1</td>\n",
       "    </tr>\n",
       "    <tr>\n",
       "      <th>3</th>\n",
       "      <td>56</td>\n",
       "      <td>1</td>\n",
       "      <td>1</td>\n",
       "      <td>120</td>\n",
       "      <td>236</td>\n",
       "      <td>0</td>\n",
       "      <td>1</td>\n",
       "      <td>178</td>\n",
       "      <td>0</td>\n",
       "      <td>0.8</td>\n",
       "      <td>2</td>\n",
       "      <td>0</td>\n",
       "      <td>2</td>\n",
       "      <td>1</td>\n",
       "    </tr>\n",
       "    <tr>\n",
       "      <th>4</th>\n",
       "      <td>57</td>\n",
       "      <td>0</td>\n",
       "      <td>0</td>\n",
       "      <td>120</td>\n",
       "      <td>354</td>\n",
       "      <td>0</td>\n",
       "      <td>1</td>\n",
       "      <td>163</td>\n",
       "      <td>1</td>\n",
       "      <td>0.6</td>\n",
       "      <td>2</td>\n",
       "      <td>0</td>\n",
       "      <td>2</td>\n",
       "      <td>1</td>\n",
       "    </tr>\n",
       "  </tbody>\n",
       "</table>\n",
       "</div>"
      ],
      "text/plain": [
       "   age  sex  cp  trtbps  chol  fbs  restecg  thalachh  exng  oldpeak  slp  \\\n",
       "0   63    1   3     145   233    1        0       150     0      2.3    0   \n",
       "1   37    1   2     130   250    0        1       187     0      3.5    0   \n",
       "2   41    0   1     130   204    0        0       172     0      1.4    2   \n",
       "3   56    1   1     120   236    0        1       178     0      0.8    2   \n",
       "4   57    0   0     120   354    0        1       163     1      0.6    2   \n",
       "\n",
       "   caa  thall  output  \n",
       "0    0      1       1  \n",
       "1    0      2       1  \n",
       "2    0      2       1  \n",
       "3    0      2       1  \n",
       "4    0      2       1  "
      ]
     },
     "execution_count": 5,
     "metadata": {},
     "output_type": "execute_result"
    }
   ],
   "source": [
    "df.head()"
   ]
  },
  {
   "cell_type": "code",
   "execution_count": 6,
   "id": "bdaf5682-7969-4249-a10f-36559b486c48",
   "metadata": {},
   "outputs": [
    {
     "name": "stdout",
     "output_type": "stream",
     "text": [
      "<class 'pandas.core.frame.DataFrame'>\n",
      "RangeIndex: 303 entries, 0 to 302\n",
      "Data columns (total 14 columns):\n",
      " #   Column    Non-Null Count  Dtype  \n",
      "---  ------    --------------  -----  \n",
      " 0   age       303 non-null    int64  \n",
      " 1   sex       303 non-null    int64  \n",
      " 2   cp        303 non-null    int64  \n",
      " 3   trtbps    303 non-null    int64  \n",
      " 4   chol      303 non-null    int64  \n",
      " 5   fbs       303 non-null    int64  \n",
      " 6   restecg   303 non-null    int64  \n",
      " 7   thalachh  303 non-null    int64  \n",
      " 8   exng      303 non-null    int64  \n",
      " 9   oldpeak   303 non-null    float64\n",
      " 10  slp       303 non-null    int64  \n",
      " 11  caa       303 non-null    int64  \n",
      " 12  thall     303 non-null    int64  \n",
      " 13  output    303 non-null    int64  \n",
      "dtypes: float64(1), int64(13)\n",
      "memory usage: 33.3 KB\n"
     ]
    }
   ],
   "source": [
    "df.info()"
   ]
  },
  {
   "cell_type": "code",
   "execution_count": 7,
   "id": "6e930fe1-9011-44b5-84d5-4a9d93fe35df",
   "metadata": {},
   "outputs": [
    {
     "data": {
      "text/html": [
       "<div>\n",
       "<style scoped>\n",
       "    .dataframe tbody tr th:only-of-type {\n",
       "        vertical-align: middle;\n",
       "    }\n",
       "\n",
       "    .dataframe tbody tr th {\n",
       "        vertical-align: top;\n",
       "    }\n",
       "\n",
       "    .dataframe thead th {\n",
       "        text-align: right;\n",
       "    }\n",
       "</style>\n",
       "<table border=\"1\" class=\"dataframe\">\n",
       "  <thead>\n",
       "    <tr style=\"text-align: right;\">\n",
       "      <th></th>\n",
       "      <th>age</th>\n",
       "      <th>sex</th>\n",
       "      <th>cp</th>\n",
       "      <th>trtbps</th>\n",
       "      <th>chol</th>\n",
       "      <th>fbs</th>\n",
       "      <th>restecg</th>\n",
       "      <th>thalachh</th>\n",
       "      <th>exng</th>\n",
       "      <th>oldpeak</th>\n",
       "      <th>slp</th>\n",
       "      <th>caa</th>\n",
       "      <th>thall</th>\n",
       "      <th>output</th>\n",
       "    </tr>\n",
       "  </thead>\n",
       "  <tbody>\n",
       "    <tr>\n",
       "      <th>count</th>\n",
       "      <td>303.000000</td>\n",
       "      <td>303.000000</td>\n",
       "      <td>303.000000</td>\n",
       "      <td>303.000000</td>\n",
       "      <td>303.000000</td>\n",
       "      <td>303.000000</td>\n",
       "      <td>303.000000</td>\n",
       "      <td>303.000000</td>\n",
       "      <td>303.000000</td>\n",
       "      <td>303.000000</td>\n",
       "      <td>303.000000</td>\n",
       "      <td>303.000000</td>\n",
       "      <td>303.000000</td>\n",
       "      <td>303.000000</td>\n",
       "    </tr>\n",
       "    <tr>\n",
       "      <th>mean</th>\n",
       "      <td>54.366337</td>\n",
       "      <td>0.683168</td>\n",
       "      <td>0.966997</td>\n",
       "      <td>131.623762</td>\n",
       "      <td>246.264026</td>\n",
       "      <td>0.148515</td>\n",
       "      <td>0.528053</td>\n",
       "      <td>149.646865</td>\n",
       "      <td>0.326733</td>\n",
       "      <td>1.039604</td>\n",
       "      <td>1.399340</td>\n",
       "      <td>0.729373</td>\n",
       "      <td>2.313531</td>\n",
       "      <td>0.544554</td>\n",
       "    </tr>\n",
       "    <tr>\n",
       "      <th>std</th>\n",
       "      <td>9.082101</td>\n",
       "      <td>0.466011</td>\n",
       "      <td>1.032052</td>\n",
       "      <td>17.538143</td>\n",
       "      <td>51.830751</td>\n",
       "      <td>0.356198</td>\n",
       "      <td>0.525860</td>\n",
       "      <td>22.905161</td>\n",
       "      <td>0.469794</td>\n",
       "      <td>1.161075</td>\n",
       "      <td>0.616226</td>\n",
       "      <td>1.022606</td>\n",
       "      <td>0.612277</td>\n",
       "      <td>0.498835</td>\n",
       "    </tr>\n",
       "    <tr>\n",
       "      <th>min</th>\n",
       "      <td>29.000000</td>\n",
       "      <td>0.000000</td>\n",
       "      <td>0.000000</td>\n",
       "      <td>94.000000</td>\n",
       "      <td>126.000000</td>\n",
       "      <td>0.000000</td>\n",
       "      <td>0.000000</td>\n",
       "      <td>71.000000</td>\n",
       "      <td>0.000000</td>\n",
       "      <td>0.000000</td>\n",
       "      <td>0.000000</td>\n",
       "      <td>0.000000</td>\n",
       "      <td>0.000000</td>\n",
       "      <td>0.000000</td>\n",
       "    </tr>\n",
       "    <tr>\n",
       "      <th>25%</th>\n",
       "      <td>47.500000</td>\n",
       "      <td>0.000000</td>\n",
       "      <td>0.000000</td>\n",
       "      <td>120.000000</td>\n",
       "      <td>211.000000</td>\n",
       "      <td>0.000000</td>\n",
       "      <td>0.000000</td>\n",
       "      <td>133.500000</td>\n",
       "      <td>0.000000</td>\n",
       "      <td>0.000000</td>\n",
       "      <td>1.000000</td>\n",
       "      <td>0.000000</td>\n",
       "      <td>2.000000</td>\n",
       "      <td>0.000000</td>\n",
       "    </tr>\n",
       "    <tr>\n",
       "      <th>50%</th>\n",
       "      <td>55.000000</td>\n",
       "      <td>1.000000</td>\n",
       "      <td>1.000000</td>\n",
       "      <td>130.000000</td>\n",
       "      <td>240.000000</td>\n",
       "      <td>0.000000</td>\n",
       "      <td>1.000000</td>\n",
       "      <td>153.000000</td>\n",
       "      <td>0.000000</td>\n",
       "      <td>0.800000</td>\n",
       "      <td>1.000000</td>\n",
       "      <td>0.000000</td>\n",
       "      <td>2.000000</td>\n",
       "      <td>1.000000</td>\n",
       "    </tr>\n",
       "    <tr>\n",
       "      <th>75%</th>\n",
       "      <td>61.000000</td>\n",
       "      <td>1.000000</td>\n",
       "      <td>2.000000</td>\n",
       "      <td>140.000000</td>\n",
       "      <td>274.500000</td>\n",
       "      <td>0.000000</td>\n",
       "      <td>1.000000</td>\n",
       "      <td>166.000000</td>\n",
       "      <td>1.000000</td>\n",
       "      <td>1.600000</td>\n",
       "      <td>2.000000</td>\n",
       "      <td>1.000000</td>\n",
       "      <td>3.000000</td>\n",
       "      <td>1.000000</td>\n",
       "    </tr>\n",
       "    <tr>\n",
       "      <th>max</th>\n",
       "      <td>77.000000</td>\n",
       "      <td>1.000000</td>\n",
       "      <td>3.000000</td>\n",
       "      <td>200.000000</td>\n",
       "      <td>564.000000</td>\n",
       "      <td>1.000000</td>\n",
       "      <td>2.000000</td>\n",
       "      <td>202.000000</td>\n",
       "      <td>1.000000</td>\n",
       "      <td>6.200000</td>\n",
       "      <td>2.000000</td>\n",
       "      <td>4.000000</td>\n",
       "      <td>3.000000</td>\n",
       "      <td>1.000000</td>\n",
       "    </tr>\n",
       "  </tbody>\n",
       "</table>\n",
       "</div>"
      ],
      "text/plain": [
       "              age         sex          cp      trtbps        chol         fbs  \\\n",
       "count  303.000000  303.000000  303.000000  303.000000  303.000000  303.000000   \n",
       "mean    54.366337    0.683168    0.966997  131.623762  246.264026    0.148515   \n",
       "std      9.082101    0.466011    1.032052   17.538143   51.830751    0.356198   \n",
       "min     29.000000    0.000000    0.000000   94.000000  126.000000    0.000000   \n",
       "25%     47.500000    0.000000    0.000000  120.000000  211.000000    0.000000   \n",
       "50%     55.000000    1.000000    1.000000  130.000000  240.000000    0.000000   \n",
       "75%     61.000000    1.000000    2.000000  140.000000  274.500000    0.000000   \n",
       "max     77.000000    1.000000    3.000000  200.000000  564.000000    1.000000   \n",
       "\n",
       "          restecg    thalachh        exng     oldpeak         slp         caa  \\\n",
       "count  303.000000  303.000000  303.000000  303.000000  303.000000  303.000000   \n",
       "mean     0.528053  149.646865    0.326733    1.039604    1.399340    0.729373   \n",
       "std      0.525860   22.905161    0.469794    1.161075    0.616226    1.022606   \n",
       "min      0.000000   71.000000    0.000000    0.000000    0.000000    0.000000   \n",
       "25%      0.000000  133.500000    0.000000    0.000000    1.000000    0.000000   \n",
       "50%      1.000000  153.000000    0.000000    0.800000    1.000000    0.000000   \n",
       "75%      1.000000  166.000000    1.000000    1.600000    2.000000    1.000000   \n",
       "max      2.000000  202.000000    1.000000    6.200000    2.000000    4.000000   \n",
       "\n",
       "            thall      output  \n",
       "count  303.000000  303.000000  \n",
       "mean     2.313531    0.544554  \n",
       "std      0.612277    0.498835  \n",
       "min      0.000000    0.000000  \n",
       "25%      2.000000    0.000000  \n",
       "50%      2.000000    1.000000  \n",
       "75%      3.000000    1.000000  \n",
       "max      3.000000    1.000000  "
      ]
     },
     "execution_count": 7,
     "metadata": {},
     "output_type": "execute_result"
    }
   ],
   "source": [
    "df.describe()"
   ]
  },
  {
   "cell_type": "code",
   "execution_count": 8,
   "id": "0ebd75da-c3e7-413a-a86c-c2b7a11c8ec8",
   "metadata": {},
   "outputs": [
    {
     "data": {
      "image/png": "[encoded data removed]",
      "text/plain": [
       "<Figure size 640x480 with 1 Axes>"
      ]
     },
     "metadata": {},
     "output_type": "display_data"
    }
   ],
   "source": [
    "df[\"age\"].plot.hist(bins=20)\n",
    "plt.show()"
   ]
  },
  {
   "cell_type": "code",
   "execution_count": 9,
   "id": "5ff30cc9-8398-4269-999c-cb048d2dfb95",
   "metadata": {},
   "outputs": [
    {
     "data": {
      "image/png": "[encoded data removed]",
      "text/plain": [
       "<Figure size 640x480 with 1 Axes>"
      ]
     },
     "metadata": {},
     "output_type": "display_data"
    }
   ],
   "source": [
    "plt.boxplot(df[\"age\"])\n",
    "plt.show()"
   ]
  },
  {
   "cell_type": "code",
   "execution_count": 10,
   "id": "8615e7c9-4aad-47d1-a809-d3fe37d6cdc5",
   "metadata": {},
   "outputs": [
    {
     "data": {
      "image/png": "[encoded data removed]",
      "text/plain": [
       "<Figure size 640x480 with 1 Axes>"
      ]
     },
     "metadata": {},
     "output_type": "display_data"
    }
   ],
   "source": [
    "plt.boxplot(df[\"trtbps\"], vert=False)\n",
    "plt.show()"
   ]
  },
  {
   "cell_type": "code",
   "execution_count": 11,
   "id": "329ad280-7349-43fc-bdde-1994130e1be0",
   "metadata": {},
   "outputs": [
    {
     "data": {
      "text/plain": [
       "0.90    152.00\n",
       "0.91    154.82\n",
       "0.93    160.00\n",
       "0.95    160.00\n",
       "0.97    170.00\n",
       "Name: trtbps, dtype: float64"
      ]
     },
     "execution_count": 11,
     "metadata": {},
     "output_type": "execute_result"
    }
   ],
   "source": [
    "df[\"trtbps\"].quantile([0.9, 0.91, 0.93, 0.95, 0.97])"
   ]
  },
  {
   "cell_type": "code",
   "execution_count": 12,
   "id": "4037c5d5-0992-4cc6-a70b-1c3b16687fe2",
   "metadata": {},
   "outputs": [
    {
     "data": {
      "text/plain": [
       "101    178\n",
       "110    180\n",
       "203    180\n",
       "223    200\n",
       "248    192\n",
       "260    178\n",
       "266    180\n",
       "Name: trtbps, dtype: int64"
      ]
     },
     "execution_count": 12,
     "metadata": {},
     "output_type": "execute_result"
    }
   ],
   "source": [
    "df[\"trtbps\"][df[\"trtbps\"] > df[\"trtbps\"].quantile(0.98)]"
   ]
  },
  {
   "cell_type": "code",
   "execution_count": 13,
   "id": "b1fb8437-402b-4b0c-9d01-f32e8a52874d",
   "metadata": {},
   "outputs": [],
   "source": [
    "dummy = df[\"trtbps\"]"
   ]
  },
  {
   "cell_type": "code",
   "execution_count": 14,
   "id": "c505b550-82da-42a8-ad6b-ada6eaaedc0f",
   "metadata": {
    "scrolled": true
   },
   "outputs": [
    {
     "data": {
      "text/plain": [
       "0      145\n",
       "1      130\n",
       "2      130\n",
       "3      120\n",
       "4      120\n",
       "      ... \n",
       "298    140\n",
       "299    110\n",
       "300    144\n",
       "301    130\n",
       "302    130\n",
       "Name: trtbps, Length: 303, dtype: int64"
      ]
     },
     "execution_count": 14,
     "metadata": {},
     "output_type": "execute_result"
    }
   ],
   "source": [
    "dummy"
   ]
  },
  {
   "cell_type": "code",
   "execution_count": 15,
   "id": "9eda23f5-62ef-469b-9c5b-9f13590d8b7f",
   "metadata": {},
   "outputs": [],
   "source": [
    "ls = list(map(lambda x: int(dummy.mean()) if x > 170 else x, dummy))\n",
    "# lambda input: output\n",
    "# map(function, iterable)"
   ]
  },
  {
   "cell_type": "code",
   "execution_count": 16,
   "id": "b24fe72d-786a-4020-9fe4-5cdb74653d7f",
   "metadata": {
    "scrolled": true
   },
   "outputs": [
    {
     "data": {
      "text/plain": [
       "[145,\n",
       " 130,\n",
       " 130,\n",
       " 120,\n",
       " 120,\n",
       " 140,\n",
       " 140,\n",
       " 120,\n",
       " 131,\n",
       " 150,\n",
       " 140,\n",
       " 130,\n",
       " 130,\n",
       " 110,\n",
       " 150,\n",
       " 120,\n",
       " 120,\n",
       " 150,\n",
       " 150,\n",
       " 140,\n",
       " 135,\n",
       " 130,\n",
       " 140,\n",
       " 150,\n",
       " 140,\n",
       " 160,\n",
       " 150,\n",
       " 110,\n",
       " 140,\n",
       " 130,\n",
       " 105,\n",
       " 120,\n",
       " 130,\n",
       " 125,\n",
       " 125,\n",
       " 142,\n",
       " 135,\n",
       " 150,\n",
       " 155,\n",
       " 160,\n",
       " 140,\n",
       " 130,\n",
       " 104,\n",
       " 130,\n",
       " 140,\n",
       " 120,\n",
       " 140,\n",
       " 138,\n",
       " 128,\n",
       " 138,\n",
       " 130,\n",
       " 120,\n",
       " 130,\n",
       " 108,\n",
       " 135,\n",
       " 134,\n",
       " 122,\n",
       " 115,\n",
       " 118,\n",
       " 128,\n",
       " 110,\n",
       " 108,\n",
       " 118,\n",
       " 135,\n",
       " 140,\n",
       " 138,\n",
       " 100,\n",
       " 130,\n",
       " 120,\n",
       " 124,\n",
       " 120,\n",
       " 94,\n",
       " 130,\n",
       " 140,\n",
       " 122,\n",
       " 135,\n",
       " 125,\n",
       " 140,\n",
       " 128,\n",
       " 105,\n",
       " 112,\n",
       " 128,\n",
       " 102,\n",
       " 152,\n",
       " 102,\n",
       " 115,\n",
       " 118,\n",
       " 101,\n",
       " 110,\n",
       " 100,\n",
       " 124,\n",
       " 132,\n",
       " 138,\n",
       " 132,\n",
       " 112,\n",
       " 142,\n",
       " 140,\n",
       " 108,\n",
       " 130,\n",
       " 130,\n",
       " 148,\n",
       " 131,\n",
       " 140,\n",
       " 120,\n",
       " 129,\n",
       " 120,\n",
       " 160,\n",
       " 138,\n",
       " 120,\n",
       " 110,\n",
       " 131,\n",
       " 150,\n",
       " 140,\n",
       " 110,\n",
       " 130,\n",
       " 120,\n",
       " 130,\n",
       " 120,\n",
       " 105,\n",
       " 138,\n",
       " 130,\n",
       " 138,\n",
       " 112,\n",
       " 108,\n",
       " 94,\n",
       " 118,\n",
       " 112,\n",
       " 152,\n",
       " 136,\n",
       " 120,\n",
       " 160,\n",
       " 134,\n",
       " 120,\n",
       " 110,\n",
       " 126,\n",
       " 130,\n",
       " 120,\n",
       " 128,\n",
       " 110,\n",
       " 128,\n",
       " 120,\n",
       " 115,\n",
       " 120,\n",
       " 106,\n",
       " 140,\n",
       " 156,\n",
       " 118,\n",
       " 150,\n",
       " 120,\n",
       " 130,\n",
       " 160,\n",
       " 112,\n",
       " 170,\n",
       " 146,\n",
       " 138,\n",
       " 130,\n",
       " 130,\n",
       " 122,\n",
       " 125,\n",
       " 130,\n",
       " 120,\n",
       " 132,\n",
       " 120,\n",
       " 138,\n",
       " 138,\n",
       " 160,\n",
       " 120,\n",
       " 140,\n",
       " 130,\n",
       " 140,\n",
       " 130,\n",
       " 110,\n",
       " 120,\n",
       " 132,\n",
       " 130,\n",
       " 110,\n",
       " 117,\n",
       " 140,\n",
       " 120,\n",
       " 150,\n",
       " 132,\n",
       " 150,\n",
       " 130,\n",
       " 112,\n",
       " 150,\n",
       " 112,\n",
       " 130,\n",
       " 124,\n",
       " 140,\n",
       " 110,\n",
       " 130,\n",
       " 128,\n",
       " 120,\n",
       " 145,\n",
       " 140,\n",
       " 170,\n",
       " 150,\n",
       " 125,\n",
       " 120,\n",
       " 110,\n",
       " 110,\n",
       " 125,\n",
       " 150,\n",
       " 131,\n",
       " 160,\n",
       " 128,\n",
       " 110,\n",
       " 150,\n",
       " 120,\n",
       " 140,\n",
       " 128,\n",
       " 120,\n",
       " 118,\n",
       " 145,\n",
       " 125,\n",
       " 132,\n",
       " 130,\n",
       " 130,\n",
       " 135,\n",
       " 130,\n",
       " 150,\n",
       " 140,\n",
       " 138,\n",
       " 131,\n",
       " 110,\n",
       " 145,\n",
       " 120,\n",
       " 120,\n",
       " 170,\n",
       " 125,\n",
       " 108,\n",
       " 165,\n",
       " 160,\n",
       " 120,\n",
       " 130,\n",
       " 140,\n",
       " 125,\n",
       " 140,\n",
       " 125,\n",
       " 126,\n",
       " 160,\n",
       " 131,\n",
       " 145,\n",
       " 152,\n",
       " 132,\n",
       " 124,\n",
       " 134,\n",
       " 160,\n",
       " 131,\n",
       " 140,\n",
       " 140,\n",
       " 132,\n",
       " 138,\n",
       " 100,\n",
       " 160,\n",
       " 142,\n",
       " 128,\n",
       " 144,\n",
       " 150,\n",
       " 120,\n",
       " 131,\n",
       " 112,\n",
       " 123,\n",
       " 108,\n",
       " 110,\n",
       " 112,\n",
       " 131,\n",
       " 118,\n",
       " 122,\n",
       " 130,\n",
       " 120,\n",
       " 134,\n",
       " 120,\n",
       " 100,\n",
       " 110,\n",
       " 125,\n",
       " 146,\n",
       " 124,\n",
       " 136,\n",
       " 138,\n",
       " 136,\n",
       " 128,\n",
       " 126,\n",
       " 152,\n",
       " 140,\n",
       " 140,\n",
       " 134,\n",
       " 154,\n",
       " 110,\n",
       " 128,\n",
       " 148,\n",
       " 114,\n",
       " 170,\n",
       " 152,\n",
       " 120,\n",
       " 140,\n",
       " 124,\n",
       " 164,\n",
       " 140,\n",
       " 110,\n",
       " 144,\n",
       " 130,\n",
       " 130]"
      ]
     },
     "execution_count": 16,
     "metadata": {},
     "output_type": "execute_result"
    }
   ],
   "source": [
    "ls"
   ]
  },
  {
   "cell_type": "code",
   "execution_count": 17,
   "id": "160ecf2d-438c-4e50-940f-e2a3e5cd2913",
   "metadata": {},
   "outputs": [
    {
     "data": {
      "text/plain": [
       "170"
      ]
     },
     "execution_count": 17,
     "metadata": {},
     "output_type": "execute_result"
    }
   ],
   "source": [
    "max(ls)"
   ]
  },
  {
   "cell_type": "code",
   "execution_count": 18,
   "id": "1b72585f-0853-4e2b-9203-1fd42735e205",
   "metadata": {},
   "outputs": [
    {
     "data": {
      "text/plain": [
       "303"
      ]
     },
     "execution_count": 18,
     "metadata": {},
     "output_type": "execute_result"
    }
   ],
   "source": [
    "len(ls)"
   ]
  },
  {
   "cell_type": "code",
   "execution_count": 19,
   "id": "2b3ef51f-fdda-4d26-9859-04ed00f8b87f",
   "metadata": {},
   "outputs": [],
   "source": [
    "df[\"trtbps\"] = ls"
   ]
  },
  {
   "cell_type": "code",
   "execution_count": 20,
   "id": "37397ce4-6455-4a22-8e4d-6f827e820aa9",
   "metadata": {},
   "outputs": [
    {
     "data": {
      "image/png": "[encoded data removed]",
      "text/plain": [
       "<Figure size 640x480 with 1 Axes>"
      ]
     },
     "metadata": {},
     "output_type": "display_data"
    }
   ],
   "source": [
    "plt.boxplot(df[\"trtbps\"], vert=False)\n",
    "plt.show()"
   ]
  },
  {
   "cell_type": "code",
   "execution_count": 21,
   "id": "a3c8ad9c-babc-4513-8c5c-7ab1dc060246",
   "metadata": {
    "scrolled": true
   },
   "outputs": [
    {
     "data": {
      "image/png": "[encoded data removed]",
      "text/plain": [
       "<Figure size 640x480 with 1 Axes>"
      ]
     },
     "metadata": {},
     "output_type": "display_data"
    }
   ],
   "source": [
    "plt.boxplot(df[\"chol\"], vert=False)\n",
    "plt.show()"
   ]
  },
  {
   "cell_type": "code",
   "execution_count": 22,
   "id": "19fba22a-e0b6-4143-bc16-4bbb5a462827",
   "metadata": {},
   "outputs": [
    {
     "data": {
      "text/plain": [
       "4      354\n",
       "28     417\n",
       "39     360\n",
       "85     564\n",
       "96     394\n",
       "161    342\n",
       "180    353\n",
       "215    341\n",
       "220    407\n",
       "246    409\n",
       "Name: chol, dtype: int64"
      ]
     },
     "execution_count": 22,
     "metadata": {},
     "output_type": "execute_result"
    }
   ],
   "source": [
    "df[\"chol\"][df[\"chol\"] > df[\"chol\"].quantile(0.97)]"
   ]
  },
  {
   "cell_type": "code",
   "execution_count": 23,
   "id": "333e0505-6920-4fed-9130-d66e715134b0",
   "metadata": {},
   "outputs": [
    {
     "data": {
      "image/png": "[encoded data removed]",
      "text/plain": [
       "<Figure size 640x480 with 1 Axes>"
      ]
     },
     "metadata": {},
     "output_type": "display_data"
    }
   ],
   "source": [
    "dummy = df[\"chol\"]\n",
    "ls = list(map(lambda x: int(dummy.mean()) if x > 341 else x, dummy))\n",
    "df[\"chol\"] = ls\n",
    "plt.boxplot(df[\"chol\"], vert=False)\n",
    "plt.show()"
   ]
  },
  {
   "cell_type": "code",
   "execution_count": 24,
   "id": "0496fc86-528d-41d4-88fb-8d38b734d922",
   "metadata": {},
   "outputs": [
    {
     "data": {
      "image/png": "[encoded data removed]",
      "text/plain": [
       "<Figure size 640x480 with 1 Axes>"
      ]
     },
     "metadata": {},
     "output_type": "display_data"
    }
   ],
   "source": [
    "plt.boxplot(df[\"thalachh\"], vert=False)\n",
    "plt.show()"
   ]
  },
  {
   "cell_type": "code",
   "execution_count": 25,
   "id": "d22d2811-e612-4727-a51b-eed99bc69b2b",
   "metadata": {},
   "outputs": [
    {
     "data": {
      "text/plain": [
       "243    88\n",
       "262    95\n",
       "272    71\n",
       "297    90\n",
       "Name: thalachh, dtype: int64"
      ]
     },
     "execution_count": 25,
     "metadata": {},
     "output_type": "execute_result"
    }
   ],
   "source": [
    "df[\"thalachh\"][df[\"thalachh\"] < df[\"thalachh\"].quantile(0.01)]"
   ]
  },
  {
   "cell_type": "code",
   "execution_count": 26,
   "id": "fff613bd-f4aa-498e-80d9-45ccb64a7375",
   "metadata": {},
   "outputs": [],
   "source": [
    "df = df[df[\"thalachh\"]!=71]"
   ]
  },
  {
   "cell_type": "code",
   "execution_count": 27,
   "id": "34afb260-c3aa-496e-b394-c2f2a21fa3af",
   "metadata": {},
   "outputs": [
    {
     "data": {
      "image/png": "[encoded data removed]",
      "text/plain": [
       "<Figure size 640x480 with 1 Axes>"
      ]
     },
     "metadata": {},
     "output_type": "display_data"
    }
   ],
   "source": [
    "plt.boxplot(df[\"thalachh\"], vert=False)\n",
    "plt.show()"
   ]
  },
  {
   "cell_type": "code",
   "execution_count": 28,
   "id": "ca204c75-c2c6-4a32-8339-63026ebde4f4",
   "metadata": {},
   "outputs": [
    {
     "data": {
      "image/png": "[encoded data removed]",
      "text/plain": [
       "<Figure size 640x480 with 1 Axes>"
      ]
     },
     "metadata": {},
     "output_type": "display_data"
    }
   ],
   "source": [
    "plt.boxplot(df[\"oldpeak\"], vert=False)\n",
    "plt.show()"
   ]
  },
  {
   "cell_type": "code",
   "execution_count": 29,
   "id": "e2cdd288-c427-416d-89f4-f75131e551bf",
   "metadata": {},
   "outputs": [
    {
     "data": {
      "text/plain": [
       "1      3.5\n",
       "101    4.2\n",
       "167    3.6\n",
       "196    3.6\n",
       "204    6.2\n",
       "211    3.6\n",
       "220    4.0\n",
       "221    5.6\n",
       "223    4.0\n",
       "250    4.2\n",
       "259    3.8\n",
       "279    3.6\n",
       "291    4.4\n",
       "295    4.0\n",
       "Name: oldpeak, dtype: float64"
      ]
     },
     "execution_count": 29,
     "metadata": {},
     "output_type": "execute_result"
    }
   ],
   "source": [
    "df[\"oldpeak\"][df[\"oldpeak\"] > df[\"oldpeak\"].quantile(0.95)]"
   ]
  },
  {
   "cell_type": "code",
   "execution_count": 30,
   "id": "6522f0e2-95bf-4512-b4d0-127c4155ab1a",
   "metadata": {},
   "outputs": [
    {
     "data": {
      "image/png": "[encoded data removed]",
      "text/plain": [
       "<Figure size 640x480 with 1 Axes>"
      ]
     },
     "metadata": {},
     "output_type": "display_data"
    }
   ],
   "source": [
    "dummy = df[\"oldpeak\"]\n",
    "ls = list(map(lambda x: dummy.mean() if x > 4.0 else x, dummy))\n",
    "df[\"oldpeak\"] = ls\n",
    "plt.boxplot(df[\"oldpeak\"], vert=False)\n",
    "plt.show()"
   ]
  },
  {
   "cell_type": "code",
   "execution_count": 31,
   "id": "ddb00282-1d5a-4e02-bb7f-a9efcc5a81c5",
   "metadata": {},
   "outputs": [
    {
     "data": {
      "text/plain": [
       "<Axes: >"
      ]
     },
     "execution_count": 31,
     "metadata": {},
     "output_type": "execute_result"
    },
    {
     "data": {
      "image/png": "[encoded data removed]",
      "text/plain": [
       "<Figure size 640x480 with 1 Axes>"
      ]
     },
     "metadata": {},
     "output_type": "display_data"
    }
   ],
   "source": [
    "df.plot.box()"
   ]
  },
  {
   "cell_type": "code",
   "execution_count": 32,
   "id": "c022d6f6-998a-4564-a524-702794c6ef60",
   "metadata": {},
   "outputs": [
    {
     "data": {
      "text/html": [
       "<div>\n",
       "<style scoped>\n",
       "    .dataframe tbody tr th:only-of-type {\n",
       "        vertical-align: middle;\n",
       "    }\n",
       "\n",
       "    .dataframe tbody tr th {\n",
       "        vertical-align: top;\n",
       "    }\n",
       "\n",
       "    .dataframe thead th {\n",
       "        text-align: right;\n",
       "    }\n",
       "</style>\n",
       "<table border=\"1\" class=\"dataframe\">\n",
       "  <thead>\n",
       "    <tr style=\"text-align: right;\">\n",
       "      <th></th>\n",
       "      <th>age</th>\n",
       "      <th>sex</th>\n",
       "      <th>cp</th>\n",
       "      <th>trtbps</th>\n",
       "      <th>chol</th>\n",
       "      <th>fbs</th>\n",
       "      <th>restecg</th>\n",
       "      <th>thalachh</th>\n",
       "      <th>exng</th>\n",
       "      <th>oldpeak</th>\n",
       "      <th>slp</th>\n",
       "      <th>caa</th>\n",
       "      <th>thall</th>\n",
       "      <th>output</th>\n",
       "    </tr>\n",
       "  </thead>\n",
       "  <tbody>\n",
       "    <tr>\n",
       "      <th>0</th>\n",
       "      <td>63</td>\n",
       "      <td>1</td>\n",
       "      <td>3</td>\n",
       "      <td>145</td>\n",
       "      <td>233</td>\n",
       "      <td>1</td>\n",
       "      <td>0</td>\n",
       "      <td>150</td>\n",
       "      <td>0</td>\n",
       "      <td>2.3</td>\n",
       "      <td>0</td>\n",
       "      <td>0</td>\n",
       "      <td>1</td>\n",
       "      <td>1</td>\n",
       "    </tr>\n",
       "    <tr>\n",
       "      <th>1</th>\n",
       "      <td>37</td>\n",
       "      <td>1</td>\n",
       "      <td>2</td>\n",
       "      <td>130</td>\n",
       "      <td>250</td>\n",
       "      <td>0</td>\n",
       "      <td>1</td>\n",
       "      <td>187</td>\n",
       "      <td>0</td>\n",
       "      <td>3.5</td>\n",
       "      <td>0</td>\n",
       "      <td>0</td>\n",
       "      <td>2</td>\n",
       "      <td>1</td>\n",
       "    </tr>\n",
       "    <tr>\n",
       "      <th>2</th>\n",
       "      <td>41</td>\n",
       "      <td>0</td>\n",
       "      <td>1</td>\n",
       "      <td>130</td>\n",
       "      <td>204</td>\n",
       "      <td>0</td>\n",
       "      <td>0</td>\n",
       "      <td>172</td>\n",
       "      <td>0</td>\n",
       "      <td>1.4</td>\n",
       "      <td>2</td>\n",
       "      <td>0</td>\n",
       "      <td>2</td>\n",
       "      <td>1</td>\n",
       "    </tr>\n",
       "    <tr>\n",
       "      <th>3</th>\n",
       "      <td>56</td>\n",
       "      <td>1</td>\n",
       "      <td>1</td>\n",
       "      <td>120</td>\n",
       "      <td>236</td>\n",
       "      <td>0</td>\n",
       "      <td>1</td>\n",
       "      <td>178</td>\n",
       "      <td>0</td>\n",
       "      <td>0.8</td>\n",
       "      <td>2</td>\n",
       "      <td>0</td>\n",
       "      <td>2</td>\n",
       "      <td>1</td>\n",
       "    </tr>\n",
       "    <tr>\n",
       "      <th>4</th>\n",
       "      <td>57</td>\n",
       "      <td>0</td>\n",
       "      <td>0</td>\n",
       "      <td>120</td>\n",
       "      <td>246</td>\n",
       "      <td>0</td>\n",
       "      <td>1</td>\n",
       "      <td>163</td>\n",
       "      <td>1</td>\n",
       "      <td>0.6</td>\n",
       "      <td>2</td>\n",
       "      <td>0</td>\n",
       "      <td>2</td>\n",
       "      <td>1</td>\n",
       "    </tr>\n",
       "  </tbody>\n",
       "</table>\n",
       "</div>"
      ],
      "text/plain": [
       "   age  sex  cp  trtbps  chol  fbs  restecg  thalachh  exng  oldpeak  slp  \\\n",
       "0   63    1   3     145   233    1        0       150     0      2.3    0   \n",
       "1   37    1   2     130   250    0        1       187     0      3.5    0   \n",
       "2   41    0   1     130   204    0        0       172     0      1.4    2   \n",
       "3   56    1   1     120   236    0        1       178     0      0.8    2   \n",
       "4   57    0   0     120   246    0        1       163     1      0.6    2   \n",
       "\n",
       "   caa  thall  output  \n",
       "0    0      1       1  \n",
       "1    0      2       1  \n",
       "2    0      2       1  \n",
       "3    0      2       1  \n",
       "4    0      2       1  "
      ]
     },
     "execution_count": 32,
     "metadata": {},
     "output_type": "execute_result"
    }
   ],
   "source": [
    "df.head()"
   ]
  },
  {
   "cell_type": "code",
   "execution_count": 33,
   "id": "296c366c-8a87-4358-83f6-498f674b281b",
   "metadata": {},
   "outputs": [
    {
     "name": "stdout",
     "output_type": "stream",
     "text": [
      "<class 'pandas.core.frame.DataFrame'>\n",
      "Index: 302 entries, 0 to 302\n",
      "Data columns (total 14 columns):\n",
      " #   Column    Non-Null Count  Dtype  \n",
      "---  ------    --------------  -----  \n",
      " 0   age       302 non-null    int64  \n",
      " 1   sex       302 non-null    int64  \n",
      " 2   cp        302 non-null    int64  \n",
      " 3   trtbps    302 non-null    int64  \n",
      " 4   chol      302 non-null    int64  \n",
      " 5   fbs       302 non-null    int64  \n",
      " 6   restecg   302 non-null    int64  \n",
      " 7   thalachh  302 non-null    int64  \n",
      " 8   exng      302 non-null    int64  \n",
      " 9   oldpeak   302 non-null    float64\n",
      " 10  slp       302 non-null    int64  \n",
      " 11  caa       302 non-null    int64  \n",
      " 12  thall     302 non-null    int64  \n",
      " 13  output    302 non-null    int64  \n",
      "dtypes: float64(1), int64(13)\n",
      "memory usage: 35.4 KB\n"
     ]
    }
   ],
   "source": [
    "df.info()"
   ]
  },
  {
   "cell_type": "code",
   "execution_count": 34,
   "id": "700a60ce-fa22-4f5f-a9d1-e5243abe468e",
   "metadata": {},
   "outputs": [],
   "source": [
    "df.reset_index(drop=True, inplace=True)"
   ]
  },
  {
   "cell_type": "code",
   "execution_count": 35,
   "id": "49b17b0a-acd9-43af-a151-1d988b3d6823",
   "metadata": {},
   "outputs": [],
   "source": [
    "from sklearn.preprocessing import StandardScaler"
   ]
  },
  {
   "cell_type": "code",
   "execution_count": 36,
   "id": "5bc2ea95-c4ad-4be5-b60b-dc638913b2e5",
   "metadata": {},
   "outputs": [],
   "source": [
    "std = StandardScaler()"
   ]
  },
  {
   "cell_type": "code",
   "execution_count": 37,
   "id": "a1bb16c4-de6f-4bba-8393-ca01913d2bf4",
   "metadata": {},
   "outputs": [],
   "source": [
    "new_df = df.copy()"
   ]
  },
  {
   "cell_type": "code",
   "execution_count": 38,
   "id": "5670311c-4e0c-484b-8e6d-4fe78ce9726b",
   "metadata": {},
   "outputs": [],
   "source": [
    "new_df[[\"age\",\"trtbps\", \"chol\", \"thalachh\", \"oldpeak\"]] = std.fit_transform(new_df[[\"age\",\"trtbps\", \"chol\", \"thalachh\", \"oldpeak\"]])"
   ]
  },
  {
   "cell_type": "code",
   "execution_count": 39,
   "id": "c83e86b6-592b-4e3d-9ff3-6048cb8f27eb",
   "metadata": {
    "scrolled": true
   },
   "outputs": [
    {
     "data": {
      "text/html": [
       "<div>\n",
       "<style scoped>\n",
       "    .dataframe tbody tr th:only-of-type {\n",
       "        vertical-align: middle;\n",
       "    }\n",
       "\n",
       "    .dataframe tbody tr th {\n",
       "        vertical-align: top;\n",
       "    }\n",
       "\n",
       "    .dataframe thead th {\n",
       "        text-align: right;\n",
       "    }\n",
       "</style>\n",
       "<table border=\"1\" class=\"dataframe\">\n",
       "  <thead>\n",
       "    <tr style=\"text-align: right;\">\n",
       "      <th></th>\n",
       "      <th>age</th>\n",
       "      <th>sex</th>\n",
       "      <th>cp</th>\n",
       "      <th>trtbps</th>\n",
       "      <th>chol</th>\n",
       "      <th>fbs</th>\n",
       "      <th>restecg</th>\n",
       "      <th>thalachh</th>\n",
       "      <th>exng</th>\n",
       "      <th>oldpeak</th>\n",
       "      <th>slp</th>\n",
       "      <th>caa</th>\n",
       "      <th>thall</th>\n",
       "      <th>output</th>\n",
       "    </tr>\n",
       "  </thead>\n",
       "  <tbody>\n",
       "    <tr>\n",
       "      <th>0</th>\n",
       "      <td>0.958315</td>\n",
       "      <td>1</td>\n",
       "      <td>3</td>\n",
       "      <td>0.981784</td>\n",
       "      <td>-0.202960</td>\n",
       "      <td>1</td>\n",
       "      <td>0</td>\n",
       "      <td>0.004129</td>\n",
       "      <td>0</td>\n",
       "      <td>1.272507</td>\n",
       "      <td>0</td>\n",
       "      <td>0</td>\n",
       "      <td>1</td>\n",
       "      <td>1</td>\n",
       "    </tr>\n",
       "    <tr>\n",
       "      <th>1</th>\n",
       "      <td>-1.913705</td>\n",
       "      <td>1</td>\n",
       "      <td>2</td>\n",
       "      <td>-0.010293</td>\n",
       "      <td>0.193387</td>\n",
       "      <td>0</td>\n",
       "      <td>1</td>\n",
       "      <td>1.652081</td>\n",
       "      <td>0</td>\n",
       "      <td>2.425395</td>\n",
       "      <td>0</td>\n",
       "      <td>0</td>\n",
       "      <td>2</td>\n",
       "      <td>1</td>\n",
       "    </tr>\n",
       "    <tr>\n",
       "      <th>2</th>\n",
       "      <td>-1.471855</td>\n",
       "      <td>0</td>\n",
       "      <td>1</td>\n",
       "      <td>-0.010293</td>\n",
       "      <td>-0.879083</td>\n",
       "      <td>0</td>\n",
       "      <td>0</td>\n",
       "      <td>0.983993</td>\n",
       "      <td>0</td>\n",
       "      <td>0.407841</td>\n",
       "      <td>2</td>\n",
       "      <td>0</td>\n",
       "      <td>2</td>\n",
       "      <td>1</td>\n",
       "    </tr>\n",
       "    <tr>\n",
       "      <th>3</th>\n",
       "      <td>0.185079</td>\n",
       "      <td>1</td>\n",
       "      <td>1</td>\n",
       "      <td>-0.671678</td>\n",
       "      <td>-0.133017</td>\n",
       "      <td>0</td>\n",
       "      <td>1</td>\n",
       "      <td>1.251228</td>\n",
       "      <td>0</td>\n",
       "      <td>-0.168602</td>\n",
       "      <td>2</td>\n",
       "      <td>0</td>\n",
       "      <td>2</td>\n",
       "      <td>1</td>\n",
       "    </tr>\n",
       "    <tr>\n",
       "      <th>4</th>\n",
       "      <td>0.295542</td>\n",
       "      <td>0</td>\n",
       "      <td>0</td>\n",
       "      <td>-0.671678</td>\n",
       "      <td>0.100129</td>\n",
       "      <td>0</td>\n",
       "      <td>1</td>\n",
       "      <td>0.583140</td>\n",
       "      <td>1</td>\n",
       "      <td>-0.360750</td>\n",
       "      <td>2</td>\n",
       "      <td>0</td>\n",
       "      <td>2</td>\n",
       "      <td>1</td>\n",
       "    </tr>\n",
       "    <tr>\n",
       "      <th>...</th>\n",
       "      <td>...</td>\n",
       "      <td>...</td>\n",
       "      <td>...</td>\n",
       "      <td>...</td>\n",
       "      <td>...</td>\n",
       "      <td>...</td>\n",
       "      <td>...</td>\n",
       "      <td>...</td>\n",
       "      <td>...</td>\n",
       "      <td>...</td>\n",
       "      <td>...</td>\n",
       "      <td>...</td>\n",
       "      <td>...</td>\n",
       "      <td>...</td>\n",
       "    </tr>\n",
       "    <tr>\n",
       "      <th>297</th>\n",
       "      <td>0.295542</td>\n",
       "      <td>0</td>\n",
       "      <td>0</td>\n",
       "      <td>0.651092</td>\n",
       "      <td>-0.016444</td>\n",
       "      <td>0</td>\n",
       "      <td>1</td>\n",
       "      <td>-1.198430</td>\n",
       "      <td>1</td>\n",
       "      <td>-0.745046</td>\n",
       "      <td>1</td>\n",
       "      <td>0</td>\n",
       "      <td>3</td>\n",
       "      <td>0</td>\n",
       "    </tr>\n",
       "    <tr>\n",
       "      <th>298</th>\n",
       "      <td>-1.030006</td>\n",
       "      <td>1</td>\n",
       "      <td>3</td>\n",
       "      <td>-1.333062</td>\n",
       "      <td>0.519792</td>\n",
       "      <td>0</td>\n",
       "      <td>1</td>\n",
       "      <td>-0.797577</td>\n",
       "      <td>0</td>\n",
       "      <td>0.215693</td>\n",
       "      <td>1</td>\n",
       "      <td>0</td>\n",
       "      <td>3</td>\n",
       "      <td>0</td>\n",
       "    </tr>\n",
       "    <tr>\n",
       "      <th>299</th>\n",
       "      <td>1.510627</td>\n",
       "      <td>1</td>\n",
       "      <td>0</td>\n",
       "      <td>0.915645</td>\n",
       "      <td>-1.135543</td>\n",
       "      <td>1</td>\n",
       "      <td>1</td>\n",
       "      <td>-0.396724</td>\n",
       "      <td>0</td>\n",
       "      <td>2.329321</td>\n",
       "      <td>1</td>\n",
       "      <td>2</td>\n",
       "      <td>3</td>\n",
       "      <td>0</td>\n",
       "    </tr>\n",
       "    <tr>\n",
       "      <th>300</th>\n",
       "      <td>0.295542</td>\n",
       "      <td>1</td>\n",
       "      <td>0</td>\n",
       "      <td>-0.010293</td>\n",
       "      <td>-2.581047</td>\n",
       "      <td>0</td>\n",
       "      <td>1</td>\n",
       "      <td>-1.554744</td>\n",
       "      <td>1</td>\n",
       "      <td>0.215693</td>\n",
       "      <td>1</td>\n",
       "      <td>1</td>\n",
       "      <td>3</td>\n",
       "      <td>0</td>\n",
       "    </tr>\n",
       "    <tr>\n",
       "      <th>301</th>\n",
       "      <td>0.295542</td>\n",
       "      <td>0</td>\n",
       "      <td>1</td>\n",
       "      <td>-0.010293</td>\n",
       "      <td>-0.133017</td>\n",
       "      <td>0</td>\n",
       "      <td>0</td>\n",
       "      <td>1.073071</td>\n",
       "      <td>0</td>\n",
       "      <td>-0.937194</td>\n",
       "      <td>1</td>\n",
       "      <td>1</td>\n",
       "      <td>2</td>\n",
       "      <td>0</td>\n",
       "    </tr>\n",
       "  </tbody>\n",
       "</table>\n",
       "<p>302 rows × 14 columns</p>\n",
       "</div>"
      ],
      "text/plain": [
       "          age  sex  cp    trtbps      chol  fbs  restecg  thalachh  exng  \\\n",
       "0    0.958315    1   3  0.981784 -0.202960    1        0  0.004129     0   \n",
       "1   -1.913705    1   2 -0.010293  0.193387    0        1  1.652081     0   \n",
       "2   -1.471855    0   1 -0.010293 -0.879083    0        0  0.983993     0   \n",
       "3    0.185079    1   1 -0.671678 -0.133017    0        1  1.251228     0   \n",
       "4    0.295542    0   0 -0.671678  0.100129    0        1  0.583140     1   \n",
       "..        ...  ...  ..       ...       ...  ...      ...       ...   ...   \n",
       "297  0.295542    0   0  0.651092 -0.016444    0        1 -1.198430     1   \n",
       "298 -1.030006    1   3 -1.333062  0.519792    0        1 -0.797577     0   \n",
       "299  1.510627    1   0  0.915645 -1.135543    1        1 -0.396724     0   \n",
       "300  0.295542    1   0 -0.010293 -2.581047    0        1 -1.554744     1   \n",
       "301  0.295542    0   1 -0.010293 -0.133017    0        0  1.073071     0   \n",
       "\n",
       "      oldpeak  slp  caa  thall  output  \n",
       "0    1.272507    0    0      1       1  \n",
       "1    2.425395    0    0      2       1  \n",
       "2    0.407841    2    0      2       1  \n",
       "3   -0.168602    2    0      2       1  \n",
       "4   -0.360750    2    0      2       1  \n",
       "..        ...  ...  ...    ...     ...  \n",
       "297 -0.745046    1    0      3       0  \n",
       "298  0.215693    1    0      3       0  \n",
       "299  2.329321    1    2      3       0  \n",
       "300  0.215693    1    1      3       0  \n",
       "301 -0.937194    1    1      2       0  \n",
       "\n",
       "[302 rows x 14 columns]"
      ]
     },
     "execution_count": 39,
     "metadata": {},
     "output_type": "execute_result"
    }
   ],
   "source": [
    "new_df"
   ]
  },
  {
   "cell_type": "code",
   "execution_count": 40,
   "id": "cbc39f23-3a42-490d-bfd7-c82f9a5221af",
   "metadata": {},
   "outputs": [],
   "source": [
    "pca = PCA(n_components=3)"
   ]
  },
  {
   "cell_type": "code",
   "execution_count": 50,
   "id": "ce7fc929-3658-4ab1-99c8-510a4a078163",
   "metadata": {},
   "outputs": [],
   "source": [
    "X = pca.fit_transform(new_df.drop(\"output\", axis=1))"
   ]
  },
  {
   "cell_type": "code",
   "execution_count": 51,
   "id": "417d2976-64b0-462b-b24c-3bb2dc60caa9",
   "metadata": {},
   "outputs": [],
   "source": [
    "y = new_df[\"output\"]"
   ]
  },
  {
   "cell_type": "code",
   "execution_count": 42,
   "id": "667a42a2-c22f-4adf-8638-d0406f3505d2",
   "metadata": {},
   "outputs": [
    {
     "data": {
      "text/plain": [
       "array([2.23633244, 1.23280811, 1.05738794])"
      ]
     },
     "execution_count": 42,
     "metadata": {},
     "output_type": "execute_result"
    }
   ],
   "source": [
    "pca.explained_variance_"
   ]
  },
  {
   "cell_type": "code",
   "execution_count": 43,
   "id": "9f73a043-6389-4e59-8791-ac91263061ba",
   "metadata": {
    "scrolled": true
   },
   "outputs": [
    {
     "data": {
      "text/plain": [
       "array([[ 8.75470932e-01, -2.07998649e-03, -8.58652154e-02,\n",
       "         3.55802519e-01,  2.18633799e-01,  3.55729259e-02,\n",
       "        -6.80651558e-02, -3.25861626e-01,  7.11039235e-02,\n",
       "         2.91588777e-01, -1.31048642e-01,  3.24040490e-01,\n",
       "         6.30930321e-02],\n",
       "       [-2.07998649e-03,  4.25059765e-01, -2.75428164e-02,\n",
       "        -1.60958027e-02, -2.77977162e-02, -1.54745291e-03,\n",
       "         1.44278336e-03, -3.18198676e-02,  1.14759334e-02,\n",
       "         3.33361972e-02, -1.70068721e-02,  5.98886893e-03,\n",
       "         6.52368656e-03],\n",
       "       [-8.58652154e-02, -2.75428164e-02,  9.57841333e-01,\n",
       "         1.96622467e-01, -1.49097419e-01,  1.67438105e-02,\n",
       "         1.35207780e-02,  3.37225514e-01, -1.48451730e-01,\n",
       "        -1.79648130e-01,  9.72892440e-02, -2.32262164e-01,\n",
       "        -1.01077958e-01],\n",
       "       [ 3.55802519e-01, -1.60958027e-02,  1.96622467e-01,\n",
       "         8.31662615e-01,  1.19623916e-01,  3.96745056e-02,\n",
       "        -5.29659099e-02, -1.13306315e-01, -1.31937309e-02,\n",
       "         1.61985773e-01, -6.43153205e-02,  1.66852368e-01,\n",
       "         3.99834031e-03],\n",
       "       [ 2.18633799e-01, -2.77977162e-02, -1.49097419e-01,\n",
       "         1.19623916e-01,  8.62934222e-01,  1.34761667e-02,\n",
       "        -4.41414962e-02, -3.40512001e-02,  1.78623097e-02,\n",
       "        -1.05217472e-01,  5.48835219e-02,  2.07466472e-01,\n",
       "         2.90448566e-02],\n",
       "       [ 3.55729259e-02, -1.54745291e-03,  1.67438105e-02,\n",
       "         3.96745056e-02,  1.34761667e-02,  4.24028494e-01,\n",
       "        -5.33208332e-03, -1.23498556e-02, -6.92397552e-04,\n",
       "         1.61071365e-02, -6.45120061e-03,  1.76859849e-02,\n",
       "         8.41120847e-04],\n",
       "       [-6.80651558e-02,  1.44278336e-03,  1.35207780e-02,\n",
       "        -5.29659099e-02, -4.41414962e-02, -5.33208332e-03,\n",
       "         4.30771856e-01,  4.26410471e-02, -9.22129484e-03,\n",
       "        -3.40353141e-02,  1.49229597e-02, -4.92590746e-02,\n",
       "        -8.84284405e-03],\n",
       "       [-3.25861626e-01, -3.18198676e-02,  3.37225514e-01,\n",
       "        -1.13306315e-01, -3.40512001e-02, -1.23498556e-02,\n",
       "         4.26410471e-02,  9.01373882e-01, -1.47464909e-01,\n",
       "        -4.28829325e-01,  2.07750431e-01, -3.13075971e-01,\n",
       "        -1.03528080e-01],\n",
       "       [ 7.11039235e-02,  1.14759334e-02, -1.48451730e-01,\n",
       "        -1.31937309e-02,  1.78623097e-02, -6.92397552e-04,\n",
       "        -9.22129484e-03, -1.47464909e-01,  4.72463623e-01,\n",
       "         1.15811681e-01, -5.78797291e-02,  9.26230404e-02,\n",
       "         3.57095770e-02],\n",
       "       [ 2.91588777e-01,  3.33361972e-02, -1.79648130e-01,\n",
       "         1.61985773e-01, -1.05217472e-01,  1.61071365e-02,\n",
       "        -3.40353141e-02, -4.28829325e-01,  1.15811681e-01,\n",
       "         8.69606517e-01, -2.15405298e-01,  2.34309691e-01,\n",
       "         7.86530515e-02],\n",
       "       [-1.31048642e-01, -1.70068721e-02,  9.72892440e-02,\n",
       "        -6.43153205e-02,  5.48835219e-02, -6.45120061e-03,\n",
       "         1.49229597e-02,  2.07750431e-01, -5.78797291e-02,\n",
       "        -2.15405298e-01,  5.23942139e-01, -1.10162848e-01,\n",
       "        -3.88675358e-02],\n",
       "       [ 3.24040490e-01,  5.98886893e-03, -2.32262164e-01,\n",
       "         1.66852368e-01,  2.07466472e-01,  1.76859849e-02,\n",
       "        -4.92590746e-02, -3.13075971e-01,  9.26230404e-02,\n",
       "         2.34309691e-01, -1.10162848e-01,  7.07852169e-01,\n",
       "         7.31475013e-02],\n",
       "       [ 6.30930321e-02,  6.52368656e-03, -1.01077958e-01,\n",
       "         3.99834031e-03,  2.90448566e-02,  8.41120847e-04,\n",
       "        -8.84284405e-03, -1.03528080e-01,  3.57095770e-02,\n",
       "         7.86530515e-02, -3.88675358e-02,  7.31475013e-02,\n",
       "         4.45414271e-01]])"
      ]
     },
     "execution_count": 43,
     "metadata": {},
     "output_type": "execute_result"
    }
   ],
   "source": [
    "pca.get_covariance()"
   ]
  },
  {
   "cell_type": "code",
   "execution_count": 46,
   "id": "c13ebf51-3cdd-458b-806e-8b2e2bc999ce",
   "metadata": {},
   "outputs": [
    {
     "data": {
      "text/plain": [
       "age          51.0\n",
       "sex           1.0\n",
       "cp            3.0\n",
       "trtbps      125.0\n",
       "chol        213.0\n",
       "fbs           0.0\n",
       "restecg       0.0\n",
       "thalachh    125.0\n",
       "exng          1.0\n",
       "oldpeak       1.4\n",
       "slp           2.0\n",
       "caa           1.0\n",
       "thall         2.0\n",
       "Name: 34, dtype: float64"
      ]
     },
     "execution_count": 46,
     "metadata": {},
     "output_type": "execute_result"
    }
   ],
   "source": [
    "var = df.iloc[34, :-1]\n",
    "var"
   ]
  },
  {
   "cell_type": "code",
   "execution_count": 47,
   "id": "5f7813b2-fa56-4714-b500-c3198cf49525",
   "metadata": {},
   "outputs": [
    {
     "data": {
      "text/plain": [
       "array([[ 22.87687336, 167.97418437, 165.90839845]])"
      ]
     },
     "execution_count": 47,
     "metadata": {},
     "output_type": "execute_result"
    }
   ],
   "source": [
    "pca.transform([var])"
   ]
  },
  {
   "cell_type": "code",
   "execution_count": 48,
   "id": "c7eafab7-97ae-425d-8375-c15a42addee0",
   "metadata": {},
   "outputs": [],
   "source": [
    "from sklearn.svm import SVC"
   ]
  },
  {
   "cell_type": "code",
   "execution_count": 49,
   "id": "8b0f7ec7-a658-4763-8b48-d7210684106a",
   "metadata": {},
   "outputs": [],
   "source": [
    "svc = SVC(kernel=\"rbf\")"
   ]
  },
  {
   "cell_type": "code",
   "execution_count": 52,
   "id": "49458c68-c64f-48e3-9b1d-f9846011fb60",
   "metadata": {},
   "outputs": [
    {
     "data": {
      "text/html": [
       "<style>#sk-container-id-1 {color: black;}#sk-container-id-1 pre{padding: 0;}#sk-container-id-1 div.sk-toggleable {background-color: white;}#sk-container-id-1 label.sk-toggleable__label {cursor: pointer;display: block;width: 100%;margin-bottom: 0;padding: 0.3em;box-sizing: border-box;text-align: center;}#sk-container-id-1 label.sk-toggleable__label-arrow:before {content: \"▸\";float: left;margin-right: 0.25em;color: #696969;}#sk-container-id-1 label.sk-toggleable__label-arrow:hover:before {color: black;}#sk-container-id-1 div.sk-estimator:hover label.sk-toggleable__label-arrow:before {color: black;}#sk-container-id-1 div.sk-toggleable__content {max-height: 0;max-width: 0;overflow: hidden;text-align: left;background-color: #f0f8ff;}#sk-container-id-1 div.sk-toggleable__content pre {margin: 0.2em;color: black;border-radius: 0.25em;background-color: #f0f8ff;}#sk-container-id-1 input.sk-toggleable__control:checked~div.sk-toggleable__content {max-height: 200px;max-width: 100%;overflow: auto;}#sk-container-id-1 input.sk-toggleable__control:checked~label.sk-toggleable__label-arrow:before {content: \"▾\";}#sk-container-id-1 div.sk-estimator input.sk-toggleable__control:checked~label.sk-toggleable__label {background-color: #d4ebff;}#sk-container-id-1 div.sk-label input.sk-toggleable__control:checked~label.sk-toggleable__label {background-color: #d4ebff;}#sk-container-id-1 input.sk-hidden--visually {border: 0;clip: rect(1px 1px 1px 1px);clip: rect(1px, 1px, 1px, 1px);height: 1px;margin: -1px;overflow: hidden;padding: 0;position: absolute;width: 1px;}#sk-container-id-1 div.sk-estimator {font-family: monospace;background-color: #f0f8ff;border: 1px dotted black;border-radius: 0.25em;box-sizing: border-box;margin-bottom: 0.5em;}#sk-container-id-1 div.sk-estimator:hover {background-color: #d4ebff;}#sk-container-id-1 div.sk-parallel-item::after {content: \"\";width: 100%;border-bottom: 1px solid gray;flex-grow: 1;}#sk-container-id-1 div.sk-label:hover label.sk-toggleable__label {background-color: #d4ebff;}#sk-container-id-1 div.sk-serial::before {content: \"\";position: absolute;border-left: 1px solid gray;box-sizing: border-box;top: 0;bottom: 0;left: 50%;z-index: 0;}#sk-container-id-1 div.sk-serial {display: flex;flex-direction: column;align-items: center;background-color: white;padding-right: 0.2em;padding-left: 0.2em;position: relative;}#sk-container-id-1 div.sk-item {position: relative;z-index: 1;}#sk-container-id-1 div.sk-parallel {display: flex;align-items: stretch;justify-content: center;background-color: white;position: relative;}#sk-container-id-1 div.sk-item::before, #sk-container-id-1 div.sk-parallel-item::before {content: \"\";position: absolute;border-left: 1px solid gray;box-sizing: border-box;top: 0;bottom: 0;left: 50%;z-index: -1;}#sk-container-id-1 div.sk-parallel-item {display: flex;flex-direction: column;z-index: 1;position: relative;background-color: white;}#sk-container-id-1 div.sk-parallel-item:first-child::after {align-self: flex-end;width: 50%;}#sk-container-id-1 div.sk-parallel-item:last-child::after {align-self: flex-start;width: 50%;}#sk-container-id-1 div.sk-parallel-item:only-child::after {width: 0;}#sk-container-id-1 div.sk-dashed-wrapped {border: 1px dashed gray;margin: 0 0.4em 0.5em 0.4em;box-sizing: border-box;padding-bottom: 0.4em;background-color: white;}#sk-container-id-1 div.sk-label label {font-family: monospace;font-weight: bold;display: inline-block;line-height: 1.2em;}#sk-container-id-1 div.sk-label-container {text-align: center;}#sk-container-id-1 div.sk-container {/* jupyter's `normalize.less` sets `[hidden] { display: none; }` but bootstrap.min.css set `[hidden] { display: none !important; }` so we also need the `!important` here to be able to override the default hidden behavior on the sphinx rendered scikit-learn.org. See: https://github.com/scikit-learn/scikit-learn/issues/21755 */display: inline-block !important;position: relative;}#sk-container-id-1 div.sk-text-repr-fallback {display: none;}</style><div id=\"sk-container-id-1\" class=\"sk-top-container\"><div class=\"sk-text-repr-fallback\"><pre>SVC()</pre><b>In a Jupyter environment, please rerun this cell to show the HTML representation or trust the notebook. <br />On GitHub, the HTML representation is unable to render, please try loading this page with nbviewer.org.</b></div><div class=\"sk-container\" hidden><div class=\"sk-item\"><div class=\"sk-estimator sk-toggleable\"><input class=\"sk-toggleable__control sk-hidden--visually\" id=\"sk-estimator-id-1\" type=\"checkbox\" checked><label for=\"sk-estimator-id-1\" class=\"sk-toggleable__label sk-toggleable__label-arrow\">SVC</label><div class=\"sk-toggleable__content\"><pre>SVC()</pre></div></div></div></div></div>"
      ],
      "text/plain": [
       "SVC()"
      ]
     },
     "execution_count": 52,
     "metadata": {},
     "output_type": "execute_result"
    }
   ],
   "source": [
    "svc.fit(X, y)"
   ]
  },
  {
   "cell_type": "code",
   "execution_count": 53,
   "id": "845dca25-dcf2-4a80-92c8-bdf5acc8d62c",
   "metadata": {},
   "outputs": [
    {
     "data": {
      "text/plain": [
       "0.8013245033112583"
      ]
     },
     "execution_count": 53,
     "metadata": {},
     "output_type": "execute_result"
    }
   ],
   "source": [
    "svc.score(X, y)"
   ]
  },
  {
   "cell_type": "code",
   "execution_count": 56,
   "id": "963bca84-f40f-4565-b699-a065a4904e9c",
   "metadata": {},
   "outputs": [],
   "source": [
    "new_ob = pca.transform([var])"
   ]
  },
  {
   "cell_type": "code",
   "execution_count": 57,
   "id": "75aab36c-b48b-4b0b-b4fa-dc074c108879",
   "metadata": {},
   "outputs": [
    {
     "data": {
      "text/plain": [
       "array([0], dtype=int64)"
      ]
     },
     "execution_count": 57,
     "metadata": {},
     "output_type": "execute_result"
    }
   ],
   "source": [
    "svc.predict(new_ob)"
   ]
  },
  {
   "cell_type": "code",
   "execution_count": 58,
   "id": "a31fcc63-56f0-4af4-9717-97372ea0f634",
   "metadata": {},
   "outputs": [
    {
     "data": {
      "text/plain": [
       "age          51.0\n",
       "sex           1.0\n",
       "cp            3.0\n",
       "trtbps      125.0\n",
       "chol        213.0\n",
       "fbs           0.0\n",
       "restecg       0.0\n",
       "thalachh    125.0\n",
       "exng          1.0\n",
       "oldpeak       1.4\n",
       "slp           2.0\n",
       "caa           1.0\n",
       "thall         2.0\n",
       "output        1.0\n",
       "Name: 34, dtype: float64"
      ]
     },
     "execution_count": 58,
     "metadata": {},
     "output_type": "execute_result"
    }
   ],
   "source": [
    "df.iloc[34]"
   ]
  },
  {
   "cell_type": "code",
   "execution_count": null,
   "id": "1e3afaf4-09cd-4b95-9cc9-2b70b26501f6",
   "metadata": {},
   "outputs": [],
   "source": []
  }
 ],
 "metadata": {
  "kernelspec": {
   "display_name": "Python 3 (ipykernel)",
   "language": "python",
   "name": "python3"
  },
  "language_info": {
   "codemirror_mode": {
    "name": "ipython",
    "version": 3
   },
   "file_extension": ".py",
   "mimetype": "text/x-python",
   "name": "python",
   "nbconvert_exporter": "python",
   "pygments_lexer": "ipython3",
   "version": "3.12.0"
  }
 },
 "nbformat": 4,
 "nbformat_minor": 5
}
